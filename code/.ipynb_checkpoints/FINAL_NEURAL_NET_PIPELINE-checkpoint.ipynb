{
 "cells": [
  {
   "cell_type": "markdown",
   "metadata": {},
   "source": [
    "### FINAL PROJECT CODE\n",
    "\n",
    "Our final Project consists of a neural network for classifying songs, Another neural network for analysing user schedule to see if the next song on the playlist should degrease or increase energy. 1 of 2 RNNs are used to analyse song and pick a song with the appropriate song. One RNN is trained to boost song energy and the other to drop energy. The choice of RNN to use is made by the second neural nertwork in the pipeline"
   ]
  },
  {
   "cell_type": "code",
   "execution_count": 308,
   "metadata": {},
   "outputs": [],
   "source": [
    "# imports \n",
    "import pandas as pd\n",
    "import os\n",
    "import random\n",
    "from sklearn import preprocessing as preproc\n",
    "import numpy as np\n",
    "import tensorflow as tf\n",
    "import math"
   ]
  },
  {
   "cell_type": "markdown",
   "metadata": {},
   "source": [
    "#### Step 1: Load Users Playlist Data"
   ]
  },
  {
   "cell_type": "code",
   "execution_count": 532,
   "metadata": {
    "scrolled": true
   },
   "outputs": [
    {
     "name": "stdout",
     "output_type": "stream",
     "text": [
      "---------------------------   USERS RAW DATA   ---------------------------\n"
     ]
    },
    {
     "data": {
      "text/html": [
       "<div>\n",
       "<style scoped>\n",
       "    .dataframe tbody tr th:only-of-type {\n",
       "        vertical-align: middle;\n",
       "    }\n",
       "\n",
       "    .dataframe tbody tr th {\n",
       "        vertical-align: top;\n",
       "    }\n",
       "\n",
       "    .dataframe thead th {\n",
       "        text-align: right;\n",
       "    }\n",
       "</style>\n",
       "<table border=\"1\" class=\"dataframe\">\n",
       "  <thead>\n",
       "    <tr style=\"text-align: right;\">\n",
       "      <th></th>\n",
       "      <th>name</th>\n",
       "      <th>artist</th>\n",
       "      <th>key</th>\n",
       "      <th>liveness</th>\n",
       "      <th>instrumentalness</th>\n",
       "      <th>loudness</th>\n",
       "      <th>mode</th>\n",
       "      <th>speechiness</th>\n",
       "      <th>tempo</th>\n",
       "      <th>valence</th>\n",
       "      <th>danceability</th>\n",
       "      <th>energy</th>\n",
       "      <th>acousticness</th>\n",
       "    </tr>\n",
       "  </thead>\n",
       "  <tbody>\n",
       "    <tr>\n",
       "      <th>0</th>\n",
       "      <td>Losing It</td>\n",
       "      <td>FISHER</td>\n",
       "      <td>2</td>\n",
       "      <td>0.0974</td>\n",
       "      <td>0.700000</td>\n",
       "      <td>-5.844</td>\n",
       "      <td>1</td>\n",
       "      <td>0.0576</td>\n",
       "      <td>125.000</td>\n",
       "      <td>0.6410</td>\n",
       "      <td>0.760</td>\n",
       "      <td>0.964</td>\n",
       "      <td>0.00182</td>\n",
       "    </tr>\n",
       "    <tr>\n",
       "      <th>1</th>\n",
       "      <td>Midnight Hour with Boys Noize &amp; Ty Dolla $ign</td>\n",
       "      <td>Skrillex</td>\n",
       "      <td>0</td>\n",
       "      <td>0.1990</td>\n",
       "      <td>0.000392</td>\n",
       "      <td>-4.202</td>\n",
       "      <td>1</td>\n",
       "      <td>0.0685</td>\n",
       "      <td>125.978</td>\n",
       "      <td>0.3290</td>\n",
       "      <td>0.795</td>\n",
       "      <td>0.899</td>\n",
       "      <td>0.00235</td>\n",
       "    </tr>\n",
       "    <tr>\n",
       "      <th>2</th>\n",
       "      <td>Clouds</td>\n",
       "      <td>Zonderling</td>\n",
       "      <td>1</td>\n",
       "      <td>0.7780</td>\n",
       "      <td>0.840000</td>\n",
       "      <td>-5.362</td>\n",
       "      <td>1</td>\n",
       "      <td>0.0957</td>\n",
       "      <td>125.953</td>\n",
       "      <td>0.0813</td>\n",
       "      <td>0.681</td>\n",
       "      <td>0.926</td>\n",
       "      <td>0.04950</td>\n",
       "    </tr>\n",
       "    <tr>\n",
       "      <th>3</th>\n",
       "      <td>Hypnagogic (I Can't Wait) [edit]</td>\n",
       "      <td>Love Regenerator</td>\n",
       "      <td>9</td>\n",
       "      <td>0.1080</td>\n",
       "      <td>0.766000</td>\n",
       "      <td>-3.852</td>\n",
       "      <td>0</td>\n",
       "      <td>0.0458</td>\n",
       "      <td>139.982</td>\n",
       "      <td>0.2500</td>\n",
       "      <td>0.422</td>\n",
       "      <td>0.957</td>\n",
       "      <td>0.00288</td>\n",
       "    </tr>\n",
       "    <tr>\n",
       "      <th>4</th>\n",
       "      <td>Your Mind - Radio Edit</td>\n",
       "      <td>Adam Beyer</td>\n",
       "      <td>11</td>\n",
       "      <td>0.2150</td>\n",
       "      <td>0.165000</td>\n",
       "      <td>-7.946</td>\n",
       "      <td>0</td>\n",
       "      <td>0.0565</td>\n",
       "      <td>126.032</td>\n",
       "      <td>0.1110</td>\n",
       "      <td>0.660</td>\n",
       "      <td>0.857</td>\n",
       "      <td>0.00262</td>\n",
       "    </tr>\n",
       "  </tbody>\n",
       "</table>\n",
       "</div>"
      ],
      "text/plain": [
       "                                            name            artist  key  \\\n",
       "0                                      Losing It            FISHER    2   \n",
       "1  Midnight Hour with Boys Noize & Ty Dolla $ign          Skrillex    0   \n",
       "2                                         Clouds        Zonderling    1   \n",
       "3               Hypnagogic (I Can't Wait) [edit]  Love Regenerator    9   \n",
       "4                         Your Mind - Radio Edit        Adam Beyer   11   \n",
       "\n",
       "   liveness  instrumentalness  loudness  mode  speechiness    tempo  valence  \\\n",
       "0    0.0974          0.700000    -5.844     1       0.0576  125.000   0.6410   \n",
       "1    0.1990          0.000392    -4.202     1       0.0685  125.978   0.3290   \n",
       "2    0.7780          0.840000    -5.362     1       0.0957  125.953   0.0813   \n",
       "3    0.1080          0.766000    -3.852     0       0.0458  139.982   0.2500   \n",
       "4    0.2150          0.165000    -7.946     0       0.0565  126.032   0.1110   \n",
       "\n",
       "   danceability  energy  acousticness  \n",
       "0         0.760   0.964       0.00182  \n",
       "1         0.795   0.899       0.00235  \n",
       "2         0.681   0.926       0.04950  \n",
       "3         0.422   0.957       0.00288  \n",
       "4         0.660   0.857       0.00262  "
      ]
     },
     "execution_count": 532,
     "metadata": {},
     "output_type": "execute_result"
    }
   ],
   "source": [
    "DATA_DIR = \"DataSets\"\n",
    "\n",
    "user_playlist_file = \"TestSongDataSetLess.xlsx\"\n",
    "user_playlist_file = os.path.join(DATA_DIR, user_playlist_file)\n",
    "user_df = pd.read_excel(user_playlist_file)\n",
    "print(\"---------------------------   USERS RAW DATA   ---------------------------\")\n",
    "key_no_norm = user_df[\"key\"]\n",
    "user_df.head()"
   ]
  },
  {
   "cell_type": "code",
   "execution_count": 533,
   "metadata": {},
   "outputs": [],
   "source": [
    "## Some of The Data isn't normalized so gonna make a pre proc function for the playlist data\n",
    "# so it is ready to be run through through the categorization neural network\n",
    "\n",
    "def preproc_userdata(df):\n",
    "    for col in df.columns:\n",
    "        if col in [\"key\", \"loudness\", \"tempo\"]:\n",
    "            df[col] = preproc.scale(df[col].values)\n",
    "\n",
    "    df.dropna(inplace=True)\n",
    "    data = []\n",
    "    for row in df.values:\n",
    "        data.append(np.array(row[2:], dtype=np.float64))\n",
    "        \n",
    "    X_data = []\n",
    "    \n",
    "    for X in data:\n",
    "        X_data.append(X)\n",
    "\n",
    "    \n",
    "        \n",
    "    return np.array(X_data)"
   ]
  },
  {
   "cell_type": "code",
   "execution_count": 534,
   "metadata": {},
   "outputs": [],
   "source": [
    "X = preproc_userdata(user_df)"
   ]
  },
  {
   "cell_type": "code",
   "execution_count": 535,
   "metadata": {},
   "outputs": [
    {
     "data": {
      "text/plain": [
       "array([[-8.93641985e-01,  9.74000000e-02,  7.00000000e-01, ...,\n",
       "         7.60000000e-01,  9.64000000e-01,  1.82000000e-03],\n",
       "       [-1.44792450e+00,  1.99000000e-01,  3.92000000e-04, ...,\n",
       "         7.95000000e-01,  8.99000000e-01,  2.35000000e-03],\n",
       "       [-1.17078324e+00,  7.78000000e-01,  8.40000000e-01, ...,\n",
       "         6.81000000e-01,  9.26000000e-01,  4.95000000e-02],\n",
       "       ...,\n",
       "       [-8.93641985e-01,  1.11000000e-01,  8.57000000e-01, ...,\n",
       "         2.70000000e-01,  7.51000000e-02,  9.92000000e-01],\n",
       "       [-1.17078324e+00,  1.09000000e-01,  9.28000000e-01, ...,\n",
       "         2.84000000e-01,  3.08000000e-02,  9.89000000e-01],\n",
       "       [-1.44792450e+00,  1.15000000e-01,  8.46000000e-01, ...,\n",
       "         2.60000000e-01,  1.66000000e-02,  9.80000000e-01]])"
      ]
     },
     "execution_count": 535,
     "metadata": {},
     "output_type": "execute_result"
    }
   ],
   "source": [
    "# X data is now an np array that can be fed into aout neural network model\n",
    "X"
   ]
  },
  {
   "cell_type": "markdown",
   "metadata": {},
   "source": [
    "#### Step 2: Use NN to categorize Data"
   ]
  },
  {
   "cell_type": "code",
   "execution_count": 536,
   "metadata": {},
   "outputs": [],
   "source": [
    "BeastMode = []\n",
    "Studying = []\n",
    "BeachSongs = []\n",
    "Relaxing = []\n",
    "\n",
    "MODEL_DIR = \"Models\"\n",
    "\n",
    "# Load Model\n",
    "file_name = os.path.join(MODEL_DIR,\"simp_neural_net_2l_60n\")\n",
    "Song_categorizer_model = tf.keras.models.load_model(file_name)\n",
    "\n",
    "# Make Predctions\n",
    "predictions = Song_categorizer_model.predict(X)\n",
    "\n",
    "predicted_category = [0] * len(predictions)\n",
    "# Arg Max The predictions\n",
    "for i,prediction in enumerate(predictions):\n",
    "    predicted_category[i] = np.argmax(prediction)\n",
    "    \n",
    "\n",
    "for i,prediction in enumerate(predicted_category):\n",
    "    song_dic = user_df.iloc[i].to_dict()\n",
    "    song_dic[\"key_no_norm\"] = key_no_norm.iloc[i]\n",
    "    if prediction == 0:\n",
    "        BeastMode.append(song_dic)\n",
    "    elif prediction == 1:\n",
    "        Studying.append(song_dic)\n",
    "    elif prediction == 2:\n",
    "        BeachSongs.append(song_dic)\n",
    "    elif prediction ==3:\n",
    "        Relaxing.append(song_dic)\n"
   ]
  },
  {
   "cell_type": "code",
   "execution_count": 537,
   "metadata": {},
   "outputs": [
    {
     "name": "stdout",
     "output_type": "stream",
     "text": [
      "807 1088 936 1169\n"
     ]
    }
   ],
   "source": [
    "#Remove later\n",
    "print(len(BeastMode),\n",
    "len(Relaxing),\n",
    "len(Studying),\n",
    "len(BeachSongs))"
   ]
  },
  {
   "cell_type": "code",
   "execution_count": 538,
   "metadata": {
    "scrolled": true
   },
   "outputs": [
    {
     "data": {
      "text/plain": [
       "{'name': 'Under the Sun',\n",
       " 'artist': 'Miskeyz',\n",
       " 'key': -0.33935946992199967,\n",
       " 'liveness': 0.228,\n",
       " 'instrumentalness': 0.771,\n",
       " 'loudness': 0.7966370049281668,\n",
       " 'mode': 0,\n",
       " 'speechiness': 0.0336,\n",
       " 'tempo': 0.19812018382713947,\n",
       " 'valence': 0.0947,\n",
       " 'danceability': 0.764,\n",
       " 'energy': 0.736,\n",
       " 'acousticness': 0.00135,\n",
       " 'key_no_norm': 4}"
      ]
     },
     "execution_count": 538,
     "metadata": {},
     "output_type": "execute_result"
    }
   ],
   "source": [
    "# Checking out some of the song selections\n",
    "BeastMode[777]"
   ]
  },
  {
   "cell_type": "markdown",
   "metadata": {},
   "source": [
    "##### Imput Schedule of The USER IN BOTTOM CELL"
   ]
  },
  {
   "cell_type": "code",
   "execution_count": 634,
   "metadata": {},
   "outputs": [],
   "source": [
    "# for Schedule is a list of tuples. The tuples contain activity and duration\n",
    "#### Key:\n",
    "# BeastMode = 1\n",
    "# Studying = 2\n",
    "# BeachSongs = 3\n",
    "# Relaxing = 4\n",
    "\n",
    "\n",
    "schedule1 = [{\"activity\":1, \"duration\":.2},{\"activity\":2, \"duration\":.1},{\"activity\":3, \"duration\":.2}]  #BeastMode for 2 hrs, Studying for 1 hours, Relaxing for 2 hours\n",
    "schedule2 = [{\"activity\":2, \"duration\":.1},{\"activity\":1, \"duration\":.1},{\"activity\":3, \"duration\":.2}, {\"activity\":2, \"duration\":.1}, {\"activity\":4, \"duration\":.1}]\n",
    "schedule3 = [{\"activity\":4, \"duration\":.3},{\"activity\":1, \"duration\":.3},{\"activity\":2, \"duration\":.2}, {\"activity\":4, \"duration\":.3}, {\"activity\":1, \"duration\":.5}]\n",
    "schedule4 = [{\"activity\":2, \"duration\":.1},{\"activity\":1, \"duration\":.3},{\"activity\":3, \"duration\":.2}, {\"activity\":2, \"duration\":.1}, {\"activity\":4, \"duration\":.1}]\n"
   ]
  },
  {
   "cell_type": "markdown",
   "metadata": {},
   "source": [
    "#### Step 4: Load RRN models and Energy Picker Model"
   ]
  },
  {
   "cell_type": "code",
   "execution_count": 657,
   "metadata": {},
   "outputs": [],
   "source": [
    "MODEL_DIR = \"models\"\n",
    "energy_picker_model = \"NN_Energy_change_picker\"\n",
    "rnn_boost_model = \"RNN_boost1_no_temp\"\n",
    "rnn_drop_model = \"RNN_drop1_no_temp\"\n",
    "\n",
    "file_name = os.path.join(MODEL_DIR, energy_picker_model)\n",
    "energy_changer_NN = tf.keras.models.load_model(file_name)\n",
    "\n",
    "file_name = os.path.join(MODEL_DIR, rnn_boost_model)\n",
    "rnn_boost = tf.keras.models.load_model(file_name)\n",
    "\n",
    "file_name = os.path.join(MODEL_DIR, rnn_drop_model)\n",
    "rnn_drop = tf.keras.models.load_model(file_name)"
   ]
  },
  {
   "cell_type": "markdown",
   "metadata": {},
   "source": [
    "#### Step 5: Make Playlist with categorized song data "
   ]
  },
  {
   "cell_type": "code",
   "execution_count": 658,
   "metadata": {},
   "outputs": [],
   "source": [
    "## HELPER FUNCTIONS\n",
    "\n",
    "# Function to change song dictionary to a form the RNN is expecting\n",
    "def song_features(song1, song2):\n",
    "    song1_key = song1['key_no_norm']\n",
    "    song1_mode = [song1[\"mode\"]]\n",
    "    song1_tempo = [song1[\"tempo\"]]\n",
    "    \n",
    "    song2_key = song2['key_no_norm']\n",
    "    song2_mode = [song2[\"mode\"]]\n",
    "    song2_tempo = [song2[\"tempo\"]]\n",
    "    \n",
    "    # Change key into hot key\n",
    "    song1_keylist = [0] * 12\n",
    "    song2_keylist = [0] * 12\n",
    "#     print()\n",
    "#     print(song1_keylist, song1_key)\n",
    "#     print(song2_keylist, song2_key)\n",
    "#     print() \n",
    "    song1_keylist[song1_key] = 1\n",
    "    song2_keylist[song2_key] = 1\n",
    "#     print()\n",
    "#     print(song1_keylist,song1_key)\n",
    "#     print(song2_keylist,song2_key)\n",
    "#     print()\n",
    "    \n",
    "    # Combine Data\n",
    "    data1 = song1_mode  + song1_keylist\n",
    "    data2 = song2_mode  + song2_keylist \n",
    "    data =  [ data1, data2 ]\n",
    "    \n",
    "    return np.array([data, data])\n",
    "\n",
    "\n",
    "# Function to get features needed for the time_left neural network\n",
    "def time_left_feat(activity1, activity2, time_left):\n",
    "    \n",
    "    #change activities into hotkeys\n",
    "    zeros = [0] * 4\n",
    "    activity1_list = [0] * 4\n",
    "    activity2_list = [0] * 4\n",
    "    activity1_list[activity1 -1] = 1\n",
    "    activity2_list[activity2 -1] = 1\n",
    "    \n",
    "    time_left = [time_left]\n",
    "    \n",
    "    # Combine Data\n",
    "    data = activity1_list + activity2_list + time_left\n",
    "    \n",
    "    return np.array([data, data])  # putting data because for now the model only accepts a list with more that one row of features\n",
    "\n",
    "\n",
    "# Converts minutees to hours\n",
    "def to_minutes(hr):\n",
    "    return hr*60"
   ]
  },
  {
   "cell_type": "code",
   "execution_count": 652,
   "metadata": {},
   "outputs": [
    {
     "name": "stdout",
     "output_type": "stream",
     "text": [
      "Data is [[1.  0.  0.  0.  0.  1.  0.  0.  0.2]\n",
      " [1.  0.  0.  0.  0.  1.  0.  0.  0.2]]\n"
     ]
    }
   ],
   "source": [
    "d = time_left_feat(1, 2, 0.2)\n",
    "print(\"Data is\", d)"
   ]
  },
  {
   "cell_type": "code",
   "execution_count": 659,
   "metadata": {},
   "outputs": [
    {
     "name": "stdout",
     "output_type": "stream",
     "text": [
      "[[1 0 0 0 0 0 0 0 0 0 0 0 1]\n",
      " [1 0 0 0 0 0 0 0 0 0 0 0 1]]\n",
      "{'name': 'Beats Knockin (feat. Fly Boi Keno)', 'artist': 'Jack Ü', 'key': 1.6006293332254058, 'liveness': 0.628, 'instrumentalness': 0.0, 'loudness': 1.229358660794601, 'mode': 1, 'speechiness': 0.0715, 'tempo': -0.3170391194907349, 'valence': 0.264, 'danceability': 0.814, 'energy': 0.951, 'acousticness': 0.0118, 'key_no_norm': 11}\n",
      "{'name': 'Beats Knockin (feat. Fly Boi Keno)', 'artist': 'Jack Ü', 'key': 1.6006293332254058, 'liveness': 0.628, 'instrumentalness': 0.0, 'loudness': 1.229358660794601, 'mode': 1, 'speechiness': 0.0715, 'tempo': -0.3170391194907349, 'valence': 0.264, 'danceability': 0.814, 'energy': 0.951, 'acousticness': 0.0118, 'key_no_norm': 11}\n",
      "\n",
      "[[0.9725931  0.02740684]\n",
      " [0.9725931  0.02740684]]\n",
      "0\n"
     ]
    }
   ],
   "source": [
    "song1 = {'name': 'Beats Knockin (feat. Fly Boi Keno)', 'artist': 'Jack Ü', 'key': 1.6006293332254058, 'liveness': 0.628, 'instrumentalness': 0.0, 'loudness': 1.229358660794601, 'mode': 1, 'speechiness': 0.0715, 'tempo': -0.3170391194907349, 'valence': 0.264, 'danceability': 0.814, 'energy': 0.951, 'acousticness': 0.0118, 'key_no_norm': 11}\n",
    "song2 = {'name': 'Beats Knockin (feat. Fly Boi Keno)', 'artist': 'Jack Ü', 'key': 1.6006293332254058, 'liveness': 0.628, 'instrumentalness': 0.0, 'loudness': 1.229358660794601, 'mode': 1, 'speechiness': 0.0715, 'tempo': -0.3170391194907349, 'valence': 0.264, 'danceability': 0.814, 'energy': 0.951, 'acousticness': 0.0118, 'key_no_norm': 11}\n",
    "c = song_features(song1,song2)\n",
    "print(c[0])\n",
    "print(song1)\n",
    "print(song2)\n",
    "predictions = rnn_drop.predict(c)\n",
    "print()\n",
    "print(predictions)\n",
    "print(np.argmax(predictions[0]))"
   ]
  },
  {
   "cell_type": "code",
   "execution_count": 660,
   "metadata": {},
   "outputs": [
    {
     "name": "stdout",
     "output_type": "stream",
     "text": [
      "Shedule is [{'activity': 4, 'duration': 0.3}, {'activity': 1, 'duration': 0.3}, {'activity': 2, 'duration': 0.2}, {'activity': 4, 'duration': 0.3}, {'activity': 1, 'duration': 0.5}]\n",
      "----- Total Time Scheduled: 96 minutes\n",
      "----- first activity: 4\n",
      "----- First song in playlist: Name: schemering, Artist: Jaidy Thissen, activity: 4\n",
      "----- Time for first activity: 18.0 minutes\n",
      "first Current act begining 4\n",
      "Current act begining 4\n",
      "96\n",
      "Current act begining 4\n",
      "currentpoint 0\n",
      "Activity 4 Next Activty 1 time passed 0.16666666666666666\n",
      "currentpoint 0\n",
      "Activity 4 Next Activty 1 time passed 0.3333333333333333\n",
      "currentpoint 0\n",
      "Activity 4 Next Activty 1 time passed 0.5\n",
      "currentpoint 0\n",
      "Activity 4 Next Activty 1 time passed 0.6666666666666666\n",
      "currentpoint 0\n",
      "Activity 4 Next Activty 1 time passed 0.8333333333333334\n",
      "currentpoint 0\n",
      "Activity 1 Next Activty 2 time passed 0.0\n",
      "currentpoint 1\n",
      "Activity 1 Next Activty 2 time passed 0.16666666666666666\n",
      "currentpoint 1\n",
      "Activity 1 Next Activty 2 time passed 0.3333333333333333\n",
      "currentpoint 1\n",
      "Activity 1 Next Activty 2 time passed 0.5\n",
      "currentpoint 1\n",
      "Activity 1 Next Activty 2 time passed 0.6666666666666666\n",
      "currentpoint 1\n",
      "Activity 1 Next Activty 2 time passed 0.8333333333333334\n",
      "currentpoint 1\n",
      "Activity 2 Next Activty 4 time passed 0.0\n",
      "currentpoint 2\n",
      "Activity 2 Next Activty 4 time passed 0.25\n",
      "currentpoint 2\n",
      "Activity 2 Next Activty 4 time passed 0.5\n",
      "currentpoint 2\n",
      "Activity 2 Next Activty 4 time passed 0.75\n",
      "currentpoint 2\n",
      "Activity 4 Next Activty 1 time passed 0.0\n",
      "currentpoint 3\n",
      "Activity 4 Next Activty 1 time passed 0.16666666666666666\n",
      "currentpoint 3\n",
      "Activity 4 Next Activty 1 time passed 0.3333333333333333\n",
      "currentpoint 3\n",
      "Activity 4 Next Activty 1 time passed 0.5\n",
      "currentpoint 3\n",
      "Activity 4 Next Activty 1 time passed 0.6666666666666666\n",
      "currentpoint 3\n",
      "Activity 4 Next Activty 1 time passed 0.8333333333333334\n",
      "currentpoint 3\n",
      "Activity 1 Next Activty 1 time passed 0.0\n",
      "currentpoint 4\n",
      "Activity 1 Next Activty 1 time passed 0.1\n",
      "currentpoint 4\n",
      "Activity 1 Next Activty 1 time passed 0.2\n",
      "currentpoint 4\n",
      "Activity 1 Next Activty 1 time passed 0.3\n",
      "currentpoint 4\n",
      "Activity 1 Next Activty 1 time passed 0.4\n",
      "currentpoint 4\n",
      "Activity 1 Next Activty 1 time passed 0.5\n",
      "currentpoint 4\n",
      "Activity 1 Next Activty 1 time passed 0.6\n",
      "currentpoint 4\n",
      "Activity 1 Next Activty 1 time passed 0.7\n",
      "currentpoint 4\n",
      "Activity 1 Next Activty 1 time passed 0.8\n",
      "currentpoint 4\n",
      "Activity 1 Next Activty 1 time passed 0.9\n",
      "----- Playlist Created :) -----\n"
     ]
    }
   ],
   "source": [
    "# we Are assuming songs last for 3 minutes to know how many songs we need in our playlist\n",
    "\n",
    "#calculate amount of hours a schedule lasts for\n",
    "\n",
    "camelot_mode = {0: \"A\", 1: \"B\"}\n",
    "\n",
    "total_time = 0\n",
    "schedule = schedule3\n",
    "print(\"Shedule is\", schedule)\n",
    "for block in schedule:\n",
    "    duration = block[\"duration\"]\n",
    "    total_time += duration\n",
    "total_time = int(to_minutes(total_time))  # conversion into minutes\n",
    "    \n",
    "print(f\"----- Total Time Scheduled: {total_time} minutes\")\n",
    "\n",
    "song_lib = {1:BeastMode, 2:Studying, 3:BeachSongs, 4:Relaxing}\n",
    "\n",
    "first_activity = schedule[0][\"activity\"]\n",
    "print(f\"----- first activity: {first_activity}\")\n",
    "\n",
    "# Shuffle first category\n",
    "random.shuffle(song_lib[first_activity])\n",
    "first_song = song_lib[first_activity][0]\n",
    "\n",
    "def print_song(song, activity=None):\n",
    "    name = first_song[\"name\"]\n",
    "    artist = first_song[\"artist\"]\n",
    "    print(f\"----- First song in playlist: Name: {name}, Artist: {artist}, activity: {activity}\")\n",
    "\n",
    "print_song(first_song, first_activity)\n",
    "\n",
    "# list of tracks (playlist)\n",
    "playlist = [first_song]\n",
    "\n",
    "## activity names dictionary\n",
    "activity_names = {1:\"BeastMode\", 2:\"Studying\", 3:\"BeachSongs\", 4:\"Relaxing\"}\n",
    "\n",
    "\n",
    "# Make the entire playlist\n",
    "step_size = 3  # 3 minutes\n",
    "activity_time = to_minutes(schedule[0][\"duration\"])  # Time of first activity\n",
    "print(f\"----- Time for first activity: {activity_time} minutes\")\n",
    "\n",
    "time_passed = 0\n",
    "curr_point = 0\n",
    "present_activity = first_activity\n",
    "print(\"first Current act begining\", first_activity)\n",
    "curr_activity = first_activity\n",
    "print(\"Current act begining\", curr_activity)\n",
    "next_activity = schedule[1][\"activity\"]\n",
    "num_activities = len(schedule)\n",
    "time_in_activity = 3\n",
    "percent_time_left = 0\n",
    "energy_list = []\n",
    "print(total_time)\n",
    "print(\"Current act begining\", curr_activity)\n",
    "for i in range(0, total_time-step_size, step_size):\n",
    "\n",
    "    print(\"currentpoint\", curr_point)\n",
    "    # Check to see where you are at in schedule\n",
    "    if time_in_activity >= to_minutes(schedule[curr_point][\"duration\"]) - 0.001:\n",
    "        curr_point += 1\n",
    "        curr_activity = (schedule[curr_point][\"activity\"])\n",
    "        time_in_activity = 0\n",
    "        if curr_point == (num_activities - 1):\n",
    "            next_activity = (schedule[curr_point][\"activity\"])\n",
    "        else:\n",
    "            next_activity = (schedule[curr_point + 1][\"activity\"])\n",
    "        \n",
    "    # Picking next activity Check to see if there is a transition\n",
    "    if time_in_activity + step_size > to_minutes(schedule[curr_point][\"duration\"]):\n",
    "        if curr_point == (num_activities - 1): ## if there is no next activity pretend the next activity is relaxing:\n",
    "            activity_to_check = schedule[curr_point][\"activity\"]\n",
    "        else:\n",
    "            activity_to_check = (schedule[curr_point + 1][\"activity\"])\n",
    "        \n",
    "    else:\n",
    "        activity_to_check = curr_activity\n",
    "     \n",
    "     \n",
    "    # Predict Energy Change    \n",
    "    percent_time_left = ((time_in_activity/to_minutes(schedule[curr_point][\"duration\"])))\n",
    "    schedule_features = time_left_feat(curr_activity, next_activity, percent_time_left)\n",
    "    predictions = energy_changer_NN.predict(schedule_features)\n",
    "    energy_change = np.argmax(predictions[0])  #predictions is  a list with 2 predictions. Both predictions are the same\n",
    "                                                #Look in time_left_feat to know why\n",
    "        \n",
    "    print(f\"Activity {curr_activity} Next Activty {next_activity} time passed {percent_time_left}\")\n",
    "\n",
    "#     print(f\"curr activity {curr_activity} next activity {next_activity}, time left {percent_time_left}\")\n",
    "\n",
    "    \n",
    "    #### Prepare Data for RNN to make prediction\n",
    "    # First Shuffle Data\n",
    "    random.shuffle(song_lib[activity_to_check])\n",
    "        \n",
    "    if energy_change == 1:  # energy boost\n",
    "        energy_list.append(1)\n",
    "        \n",
    "        # Loop through the next activity song lib to find more apropriate song\n",
    "        song_chosen = 0\n",
    "        for song in song_lib[activity_to_check]:\n",
    "            song_features_x = song_features(playlist[-1], song)  # song in question and last song added to playlist\n",
    "#             print(song_features_x)\n",
    "            predictions = rnn_boost.predict(song_features_x)\n",
    "            good_change = np.argmax(predictions[0])\n",
    "            if good_change == 1:\n",
    "                song_chosen = 1\n",
    "                playlist.append(song)\n",
    "#                 print(song)\n",
    "                break\n",
    "                \n",
    "        # If appropriate song is not found. pick random song in next activity\n",
    "        if song_chosen == 0:\n",
    "            print('Random Song Selected')\n",
    "            choice = random.randint(0, len(song_lib[activity_to_check]) - 1)\n",
    "            song = song_lib[activity_to_check][choice]\n",
    "            playlist.append(song)\n",
    "            \n",
    "#         print(\"..Boost ^\", playlist[-2][\"key_no_norm\"]+1, camelot_mode[playlist[-2][\"mode\"]], playlist[-1][\"key_no_norm\"]+1, camelot_mode[playlist[-1][\"mode\"]])\n",
    "\n",
    "    elif energy_change == 0: # energy drop\n",
    "        energy_list.append(0)\n",
    "       \n",
    "        # Loop through the next activity song lib to find more apropriate song\n",
    "        song_chosen = 0\n",
    "        for song in song_lib[activity_to_check]:\n",
    "            song_features_x = song_features(playlist[-1],song)  # song in question and last song added to playlist\n",
    "#             print(song_features_x)\n",
    "            predictions = rnn_drop.predict(song_features_x)\n",
    "            good_change = np.argmax(predictions[0])\n",
    "            if good_change == 1:\n",
    "                song_chosen = 1\n",
    "                playlist.append(song)\n",
    "#                 print(song)\n",
    "                break\n",
    "                \n",
    "        # If appropriate song is not found. pick random song in next activity\n",
    "        if song_chosen == 0:\n",
    "            print('Random Song Selected')\n",
    "            choice = random.randint(0, len(song_lib[activity_to_check]) - 1)\n",
    "            song = song_lib[activity_to_check][choice]\n",
    "            playlist.append(song)\n",
    "        \n",
    "#         print(\"..Drop v\", playlist[-2][\"key_no_norm\"]+1, camelot_mode[playlist[-2][\"mode\"]], playlist[-1][\"key_no_norm\"]+1, camelot_mode[playlist[-1][\"mode\"]])\n",
    "\n",
    "            \n",
    "    elif energy_change == 2:\n",
    "        energy_list.append(2)\n",
    "        \n",
    "        # Search through songs to find the one with the same key\n",
    "        song_chosen = 0\n",
    "        for song in song_lib[activity_to_check]:\n",
    "            present_song_key = playlist[-1][\"key_no_norm\"]\n",
    "            present_song_mode = playlist[-1][\"mode\"]\n",
    "            \n",
    "            other_song_key = song[\"key_no_norm\"]\n",
    "            other_song_mode = song[\"mode\"]\n",
    "            \n",
    "            if present_song_key == other_song_key and present_song_mode == other_song_mode:\n",
    "                song_chosen = 1\n",
    "                playlist.append(song)\n",
    "#                 print(\"in here 1\")\n",
    "                break\n",
    "                \n",
    "            if present_song_mode == 0:\n",
    "                if (present_song_mode != other_song_mode) and ((present_song_key == (other_song_key + 1)) or (present_song_key == 0 and other_song_key == 11 )):\n",
    "                    song_chosen = 1\n",
    "                    playlist.append(song)\n",
    "                    b1 = (present_song_mode != other_song_mode)\n",
    "                    b2 = present_song_key == (other_song_key + 1)\n",
    "                    b3 = (present_song_key == 0) and (other_song_key == 11)\n",
    "#                     print(b1,b2,b3)\n",
    "#                     print(present_song_key, present_song_mode, other_song_key, other_song_mode )\n",
    "#                     print(\"in here 2\")\n",
    "                    break\n",
    "                    \n",
    "            if present_song_mode == 1:\n",
    "                if (present_song_mode != other_song_mode) and ((present_song_key == (other_song_key - 1)) or (present_song_key == 11 and other_song_key == 0 )):\n",
    "                    song_chosen = 1\n",
    "                    playlist.append(song)\n",
    "                    b1 = (present_song_mode != other_song_mode)\n",
    "                    b2 = (present_song_key) == (other_song_key + 1)\n",
    "                    b3 = (present_song_key == 0 and other_song_key == 11)\n",
    "#                     print(b1,b2,b3)\n",
    "#                     print(present_song_key, present_song_mode, other_song_key, other_song_mode )\n",
    "#                     print(\"in here 3\")\n",
    "                    break\n",
    "                \n",
    "        if song_chosen == 0:\n",
    "            print('Random Song Selected')\n",
    "            choice = random.randint(0, len(song_lib[activity_to_check]) - 1)\n",
    "            song = song_lib[activity_to_check][choice]\n",
    "            playlist.append(song)\n",
    "            \n",
    "#         print(\"..Stable --\", playlist[-2][\"key_no_norm\"]+1, camelot_mode[playlist[-2][\"mode\"]], playlist[-1][\"key_no_norm\"]+1, camelot_mode[playlist[-1][\"mode\"]])     \n",
    "    \n",
    "    time_in_activity += step_size\n",
    "    \n",
    "print(\"----- Playlist Created :) -----\")"
   ]
  },
  {
   "cell_type": "code",
   "execution_count": 629,
   "metadata": {},
   "outputs": [
    {
     "data": {
      "text/plain": [
       "{'name': 'Desalniettemin',\n",
       " 'artist': 'Mavis Marchena',\n",
       " 'key': 0.2149230452629733,\n",
       " 'liveness': 0.113,\n",
       " 'instrumentalness': 0.955,\n",
       " 'loudness': -1.4344174457254457,\n",
       " 'mode': 1,\n",
       " 'speechiness': 0.0606,\n",
       " 'tempo': 0.6202708556037023,\n",
       " 'valence': 0.3,\n",
       " 'danceability': 0.445,\n",
       " 'energy': 0.0418,\n",
       " 'acousticness': 0.996,\n",
       " 'key_no_norm': 6}"
      ]
     },
     "execution_count": 629,
     "metadata": {},
     "output_type": "execute_result"
    }
   ],
   "source": [
    "playlist[1]\n"
   ]
  },
  {
   "cell_type": "markdown",
   "metadata": {},
   "source": [
    "#### STEP 6:  Plotting Data"
   ]
  },
  {
   "cell_type": "code",
   "execution_count": 630,
   "metadata": {},
   "outputs": [],
   "source": [
    "import matplotlib.pyplot as plt\n",
    "from matplotlib import gridspec"
   ]
  },
  {
   "cell_type": "code",
   "execution_count": 661,
   "metadata": {},
   "outputs": [],
   "source": [
    "x_axis = [0]\n",
    "for i in range(len(energy_list)):\n",
    "    x_axis.append(x_axis[i] + 3)\n",
    "    \n",
    "boost = 2\n",
    "drop = -boost\n",
    "\n",
    "y_axis = [0]\n",
    "for i,en in enumerate(energy_list):\n",
    "#     print(en)\n",
    "    if en == 1:\n",
    "#         print(\"boost\")\n",
    "        y_axis.append(y_axis[i] + boost)\n",
    "    elif en == 0:\n",
    "#         print(\"drop\")\n",
    "        y_axis.append(y_axis[i] + drop)\n",
    "    elif en == 2:\n",
    "        y_axis.append(y_axis[i])"
   ]
  },
  {
   "cell_type": "code",
   "execution_count": 662,
   "metadata": {
    "scrolled": true
   },
   "outputs": [
    {
     "data": {
      "image/png": "[encoded data removed]",
      "text/plain": [
       "<Figure size 1008x1008 with 2 Axes>"
      ]
     },
     "metadata": {
      "needs_background": "light"
     },
     "output_type": "display_data"
    }
   ],
   "source": [
    "# Create figure and axes\n",
    "fig = plt.figure(figsize=(14,14))\n",
    "gs = gridspec.GridSpec(2,1, height_ratios=[3, 0.3]) \n",
    "ax0 = plt.subplot(gs[0])\n",
    "ax0.plot(x_axis,y_axis)\n",
    "ax1 = plt.subplot(gs[1])\n",
    "time_dur = 0\n",
    "for activity in schedule:\n",
    "    dur = to_minutes(activity[\"duration\"])\n",
    "    ax0.axvline(x=time_dur, color='b', linestyle='--')\n",
    "    activity_name = activity_names[activity[\"activity\"]] \n",
    "    ax0.text(time_dur + total_time/80,0,activity_name,rotation=90, fontsize = 16)\n",
    "    time_dur += dur\n",
    "    \n",
    "xp, yp = 4,20\n",
    "width = 7\n",
    "height = 8\n",
    "rects = []\n",
    "# linewidth=1,edgecolor='r',facecolor='none'\n",
    "rect = mpatches.Rectangle(xy, width, height, angle=0.0)\n",
    "\n",
    "color_dic = {1:\"xkcd:aqua\",\n",
    "             2:\"lightgreen\",\n",
    "             3:\"xkcd:yellowgreen\",\n",
    "             4: \"xkcd:wheat\",\n",
    "             5: \"coral\",\n",
    "             6: \"xkcd:salmon\",\n",
    "             7: \"xkcd:pink\",\n",
    "             8: \"xkcd:orchid\",\n",
    "             9: \"xkcd:lavender\",\n",
    "             10: \"lightblue\",\n",
    "             11: \"xkcd:turquoise\",\n",
    "             12:\"xkcd:turquoise\"\n",
    "    \n",
    "            }\n",
    "\n",
    "\n",
    "for i,song in enumerate(playlist):\n",
    "    cam_key = song[\"key_no_norm\"] + 1\n",
    "    cam_mode = camelot_mode[song[\"mode\"]]\n",
    "    if cam_mode == \"A\":\n",
    "        a = 0.7\n",
    "    else:\n",
    "        a = 1\n",
    "    \n",
    "    rect = mpatches.Rectangle((xp,yp), width, height, angle=0.0, color=color_dic[cam_key], alpha=a, linewidth=0)\n",
    "    if i > 0:\n",
    "        ec= energy_list[i-1]\n",
    "        if ec == 1:\n",
    "            ax1.text(xp+ (width/2),(yp - height/4), \"+\", ha = \"center\", va='center',color = \"blue\",fontsize=9, fontweight='bold')\n",
    "        elif ec == 0:\n",
    "            ax1.text(xp+ (width/2),(yp - height/4), \"-\", ha = \"center\", va='center',color = \"red\",fontsize=9, fontweight='bold')\n",
    "        \n",
    "\n",
    "    ax1.text(xp+ (width/2),yp + (height/2), str(cam_key) + cam_mode, ha='center', va='center', fontsize=11, fontweight='bold', color=\"white\")\n",
    "    xp = xp + width\n",
    "    ax1.add_patch(rect)\n",
    "#     print(color_dic[cam_key])\n",
    "# ax.add_patch(rects)\n",
    "ax0.set_xlabel('Time (mins)')\n",
    "ax0.set_ylabel('Energy')\n",
    "plt.axis('equal')\n",
    "plt.axis('off')\n",
    "# plt.tight_layout()\n",
    "\n",
    "plt.show()"
   ]
  },
  {
   "cell_type": "code",
   "execution_count": 646,
   "metadata": {},
   "outputs": [],
   "source": [
    "## Save Images\n",
    "IMAGE_DIR = \"Images\"\n",
    "file_name = \"Shedule3.png\"\n",
    "file_name = os.path.join(IMAGE_DIR, file_name)\n",
    "fig.savefig(file_name)"
   ]
  },
  {
   "cell_type": "code",
   "execution_count": 458,
   "metadata": {},
   "outputs": [
    {
     "data": {
      "text/plain": [
       "[0, 2, 2, 1, 1, 2, 0, 2, 2, 2, 2, 0]"
      ]
     },
     "execution_count": 458,
     "metadata": {},
     "output_type": "execute_result"
    }
   ],
   "source": [
    "x_axis\n",
    "energy_list"
   ]
  },
  {
   "cell_type": "code",
   "execution_count": 582,
   "metadata": {
    "scrolled": true
   },
   "outputs": [
    {
     "name": "stdout",
     "output_type": "stream",
     "text": [
      "2 B\n",
      "3 B 1\n",
      "3 B 1\n",
      "3 B 2\n",
      "1 B 0\n",
      "2 A 2\n",
      "2 B 1\n",
      "3 B 1\n",
      "4 B 1\n",
      "5 B 1\n"
     ]
    }
   ],
   "source": [
    "camelot_mode = {0: \"A\", 1: \"B\"}\n",
    "# print(first_song[\"key_no_norm\"] + 1, camelot_mode[first_song[\"mode\"]])\n",
    "\n",
    "for i,song in enumerate(playlist):\n",
    "    if i == 0:\n",
    "        print(first_song[\"key_no_norm\"] + 1, camelot_mode[first_song[\"mode\"]])\n",
    "    else:\n",
    "        print(song[\"key_no_norm\"] + 1, camelot_mode[song[\"mode\"]], energy_list[i-1])"
   ]
  },
  {
   "cell_type": "code",
   "execution_count": 470,
   "metadata": {},
   "outputs": [],
   "source": [
    "## PLOTTING KEY TRANSITIONS:\n",
    "import numpy as np\n",
    "import matplotlib.path as mpath\n",
    "import matplotlib.lines as mlines\n",
    "import matplotlib.patches as mpatches\n",
    "from matplotlib.collections import PatchCollection\n"
   ]
  },
  {
   "cell_type": "code",
   "execution_count": 509,
   "metadata": {},
   "outputs": [
    {
     "name": "stdout",
     "output_type": "stream",
     "text": [
      "xkcd:pink\n",
      "xkcd:pink\n",
      "xkcd:pink\n",
      "xkcd:pink\n",
      "xkcd:turquoise\n",
      "xkcd:lavender\n",
      "xkcd:lavender\n",
      "xkcd:orchid\n",
      "xkcd:orchid\n",
      "xkcd:pink\n",
      "xkcd:orchid\n",
      "xkcd:orchid\n",
      "xkcd:orchid\n"
     ]
    },
    {
     "data": {
      "image/png": "[encoded data removed]",
      "text/plain": [
       "<Figure size 432x288 with 1 Axes>"
      ]
     },
     "metadata": {
      "needs_background": "light"
     },
     "output_type": "display_data"
    }
   ],
   "source": [
    "xp, yp = 2,2\n",
    "width = 7\n",
    "height = 8\n",
    "rects = []\n",
    "# linewidth=1,edgecolor='r',facecolor='none'\n",
    "rect = mpatches.Rectangle(xy, width, height, angle=0.0)\n",
    "\n",
    "color_dic = {1:\"xkcd:aqua\",\n",
    "             2:\"X11:lightgreen\",\n",
    "             3:\"xkcd:yellowgreen\",\n",
    "             4: \"xkcd:wheat\",\n",
    "             5: \"X11:coral\",\n",
    "             6: \"xkcd:salmon\",\n",
    "             7: \"xkcd:pink\",\n",
    "             8: \"xkcd:orchid\",\n",
    "             9: \"xkcd:lavender\",\n",
    "             10: \"X11:lightblue\",\n",
    "             11: \"xkcd:turquoise\",\n",
    "             12:\"xkcd:turquoise\"\n",
    "    \n",
    "            }\n",
    "# Create figure and axes\n",
    "fig,ax = plt.subplots(1)\n",
    "\n",
    "for i,song in enumerate(playlist):\n",
    "    cam_key = song[\"key_no_norm\"] + 1\n",
    "    cam_mode = camelot_mode[song[\"mode\"]]\n",
    "    rect = mpatches.Rectangle((xp,yp), width, height, angle=0.0, color=color_dic[cam_key])\n",
    "    ax.text(xp+ (width/2),yp + (height/2), str(cam_key) + cam_mode, ha='center', va='center', fontsize=9, fontweight='bold', color=\"white\")\n",
    "    xp = xp + width\n",
    "    ax.add_patch(rect)\n",
    "    print(color_dic[cam_key])\n",
    "# ax.add_patch(rects)\n",
    "\n",
    "\n",
    "plt.axis('equal')\n",
    "plt.axis('off')\n",
    "# plt.tight_layout()\n",
    "\n",
    "plt.show()"
   ]
  }
 ],
 "metadata": {
  "kernelspec": {
   "display_name": "Python 3",
   "language": "python",
   "name": "python3"
  },
  "language_info": {
   "codemirror_mode": {
    "name": "ipython",
    "version": 3
   },
   "file_extension": ".py",
   "mimetype": "text/x-python",
   "name": "python",
   "nbconvert_exporter": "python",
   "pygments_lexer": "ipython3",
   "version": "3.7.7"
  }
 },
 "nbformat": 4,
 "nbformat_minor": 4
}
