{
 "cells": [
  {
   "cell_type": "markdown",
   "metadata": {},
   "source": [
    "## RNN Song Energy Changer\n",
    "#### Author: Rhema Ike"
   ]
  },
  {
   "cell_type": "code",
   "execution_count": 15,
   "metadata": {},
   "outputs": [],
   "source": [
    "\n",
    "## Predicting Energy Boosts\n",
    "import pandas as pd\n",
    "import tensorflow as tf\n",
    "import numpy as np\n",
    "import sklearn as sk\n",
    "from sklearn import preprocessing as preproc\n",
    "\n",
    "import os\n",
    "import functools\n",
    "import random"
   ]
  },
  {
   "cell_type": "code",
   "execution_count": 49,
   "metadata": {},
   "outputs": [],
   "source": [
    "#Load Data\n",
    "# Loading Data\n",
    "PICKLE_DIR = \"DataPickles\"\n",
    "\n",
    "file_name = 'C:\\\\Users\\\\roike\\\\Documents\\\\research\\\\MachineDJ\\\\DataSets\\\\energy_boost_xy.xlsx'\n",
    "in_pickle = \"mix_df_drop_250000.pickle\"\n",
    "in_pickle = os.path.join(PICKLE_DIR, in_pickle)\n",
    "read_df = pd.read_pickle(in_pickle)\n",
    "mix_df = pd.read_excel(file_name)"
   ]
  },
  {
   "cell_type": "code",
   "execution_count": 53,
   "metadata": {},
   "outputs": [
    {
     "name": "stderr",
     "output_type": "stream",
     "text": [
      "C:\\Users\\roike\\.conda\\envs\\tf\\lib\\site-packages\\sklearn\\preprocessing\\_data.py:173: UserWarning: Numerical issues were encountered when centering the data and might not be solved. Dataset may contain too large values. You may need to prescale your features.\n",
      "  warnings.warn(\"Numerical issues were encountered \"\n",
      "C:\\Users\\roike\\.conda\\envs\\tf\\lib\\site-packages\\sklearn\\preprocessing\\_data.py:190: UserWarning: Numerical issues were encountered when scaling the data and might not be solved. The standard deviation of the data is probably very close to 0. \n",
      "  warnings.warn(\"Numerical issues were encountered \"\n",
      "C:\\Users\\roike\\.conda\\envs\\tf\\lib\\site-packages\\sklearn\\preprocessing\\_data.py:173: UserWarning: Numerical issues were encountered when centering the data and might not be solved. Dataset may contain too large values. You may need to prescale your features.\n",
      "  warnings.warn(\"Numerical issues were encountered \"\n"
     ]
    },
    {
     "data": {
      "text/html": [
       "<div>\n",
       "<style scoped>\n",
       "    .dataframe tbody tr th:only-of-type {\n",
       "        vertical-align: middle;\n",
       "    }\n",
       "\n",
       "    .dataframe tbody tr th {\n",
       "        vertical-align: top;\n",
       "    }\n",
       "\n",
       "    .dataframe thead th {\n",
       "        text-align: right;\n",
       "    }\n",
       "</style>\n",
       "<table border=\"1\" class=\"dataframe\">\n",
       "  <thead>\n",
       "    <tr style=\"text-align: right;\">\n",
       "      <th></th>\n",
       "      <th>mode1</th>\n",
       "      <th>tempo1</th>\n",
       "      <th>key11</th>\n",
       "      <th>key12</th>\n",
       "      <th>key13</th>\n",
       "      <th>key14</th>\n",
       "      <th>key15</th>\n",
       "      <th>key16</th>\n",
       "      <th>key17</th>\n",
       "      <th>key18</th>\n",
       "      <th>...</th>\n",
       "      <th>key24</th>\n",
       "      <th>key25</th>\n",
       "      <th>key26</th>\n",
       "      <th>key27</th>\n",
       "      <th>key28</th>\n",
       "      <th>key29</th>\n",
       "      <th>key210</th>\n",
       "      <th>key211</th>\n",
       "      <th>key212</th>\n",
       "      <th>y</th>\n",
       "    </tr>\n",
       "  </thead>\n",
       "  <tbody>\n",
       "    <tr>\n",
       "      <th>0</th>\n",
       "      <td>1</td>\n",
       "      <td>-0.270206</td>\n",
       "      <td>0</td>\n",
       "      <td>0</td>\n",
       "      <td>1</td>\n",
       "      <td>0</td>\n",
       "      <td>0</td>\n",
       "      <td>0</td>\n",
       "      <td>0</td>\n",
       "      <td>0</td>\n",
       "      <td>...</td>\n",
       "      <td>0</td>\n",
       "      <td>0</td>\n",
       "      <td>0</td>\n",
       "      <td>0</td>\n",
       "      <td>0</td>\n",
       "      <td>0</td>\n",
       "      <td>0</td>\n",
       "      <td>0</td>\n",
       "      <td>0</td>\n",
       "      <td>0</td>\n",
       "    </tr>\n",
       "    <tr>\n",
       "      <th>1</th>\n",
       "      <td>1</td>\n",
       "      <td>-0.270206</td>\n",
       "      <td>0</td>\n",
       "      <td>0</td>\n",
       "      <td>1</td>\n",
       "      <td>0</td>\n",
       "      <td>0</td>\n",
       "      <td>0</td>\n",
       "      <td>0</td>\n",
       "      <td>0</td>\n",
       "      <td>...</td>\n",
       "      <td>0</td>\n",
       "      <td>0</td>\n",
       "      <td>0</td>\n",
       "      <td>0</td>\n",
       "      <td>0</td>\n",
       "      <td>0</td>\n",
       "      <td>0</td>\n",
       "      <td>0</td>\n",
       "      <td>0</td>\n",
       "      <td>0</td>\n",
       "    </tr>\n",
       "    <tr>\n",
       "      <th>2</th>\n",
       "      <td>1</td>\n",
       "      <td>-0.270206</td>\n",
       "      <td>0</td>\n",
       "      <td>0</td>\n",
       "      <td>1</td>\n",
       "      <td>0</td>\n",
       "      <td>0</td>\n",
       "      <td>0</td>\n",
       "      <td>0</td>\n",
       "      <td>0</td>\n",
       "      <td>...</td>\n",
       "      <td>0</td>\n",
       "      <td>0</td>\n",
       "      <td>0</td>\n",
       "      <td>0</td>\n",
       "      <td>0</td>\n",
       "      <td>0</td>\n",
       "      <td>0</td>\n",
       "      <td>0</td>\n",
       "      <td>0</td>\n",
       "      <td>0</td>\n",
       "    </tr>\n",
       "    <tr>\n",
       "      <th>3</th>\n",
       "      <td>1</td>\n",
       "      <td>-0.270206</td>\n",
       "      <td>0</td>\n",
       "      <td>0</td>\n",
       "      <td>1</td>\n",
       "      <td>0</td>\n",
       "      <td>0</td>\n",
       "      <td>0</td>\n",
       "      <td>0</td>\n",
       "      <td>0</td>\n",
       "      <td>...</td>\n",
       "      <td>0</td>\n",
       "      <td>0</td>\n",
       "      <td>0</td>\n",
       "      <td>0</td>\n",
       "      <td>0</td>\n",
       "      <td>0</td>\n",
       "      <td>1</td>\n",
       "      <td>0</td>\n",
       "      <td>0</td>\n",
       "      <td>0</td>\n",
       "    </tr>\n",
       "    <tr>\n",
       "      <th>4</th>\n",
       "      <td>1</td>\n",
       "      <td>-0.270206</td>\n",
       "      <td>0</td>\n",
       "      <td>0</td>\n",
       "      <td>1</td>\n",
       "      <td>0</td>\n",
       "      <td>0</td>\n",
       "      <td>0</td>\n",
       "      <td>0</td>\n",
       "      <td>0</td>\n",
       "      <td>...</td>\n",
       "      <td>0</td>\n",
       "      <td>0</td>\n",
       "      <td>0</td>\n",
       "      <td>0</td>\n",
       "      <td>0</td>\n",
       "      <td>0</td>\n",
       "      <td>0</td>\n",
       "      <td>0</td>\n",
       "      <td>1</td>\n",
       "      <td>0</td>\n",
       "    </tr>\n",
       "  </tbody>\n",
       "</table>\n",
       "<p>5 rows × 29 columns</p>\n",
       "</div>"
      ],
      "text/plain": [
       "   mode1    tempo1  key11  key12  key13  key14  key15  key16  key17  key18  \\\n",
       "0      1 -0.270206      0      0      1      0      0      0      0      0   \n",
       "1      1 -0.270206      0      0      1      0      0      0      0      0   \n",
       "2      1 -0.270206      0      0      1      0      0      0      0      0   \n",
       "3      1 -0.270206      0      0      1      0      0      0      0      0   \n",
       "4      1 -0.270206      0      0      1      0      0      0      0      0   \n",
       "\n",
       "   ...  key24  key25  key26  key27  key28  key29  key210  key211  key212  y  \n",
       "0  ...      0      0      0      0      0      0       0       0       0  0  \n",
       "1  ...      0      0      0      0      0      0       0       0       0  0  \n",
       "2  ...      0      0      0      0      0      0       0       0       0  0  \n",
       "3  ...      0      0      0      0      0      0       1       0       0  0  \n",
       "4  ...      0      0      0      0      0      0       0       0       1  0  \n",
       "\n",
       "[5 rows x 29 columns]"
      ]
     },
     "execution_count": 53,
     "metadata": {},
     "output_type": "execute_result"
    }
   ],
   "source": [
    "num_of_keys = 12\n",
    "convert_dict = {\n",
    "                \"tempo1\": np.float32,\n",
    "                \"tempo2\": np.float32,\n",
    "                \"y\": np.int16\n",
    "               }\n",
    "\n",
    "# Make key columns\n",
    "key1_columns = []\n",
    "key2_columns = []\n",
    "key_columns = []\n",
    "num_keys = 12\n",
    "for r in range(num_keys):\n",
    "    key1_name = \"key1\" + str(r+1)\n",
    "    key2_name = \"key2\" + str(r+1)\n",
    "    key_name = \"key\" + str(r+1)\n",
    "    key1_columns.append(key1_name)\n",
    "    key2_columns.append(key2_name)\n",
    "    key_columns.append(key_name)\n",
    "    \n",
    "columns_to_extract = [\"mode1\",\"tempo1\"] + key1_columns + [\"mode2\", \"tempo2\"] + key2_columns + [\"y\"]\n",
    "\n",
    "# make mixdf the appropriate data\n",
    "mix_df = read_df[columns_to_extract].copy()\n",
    "\n",
    "for i in range(num_of_keys):\n",
    "    dict_key = \"key1\"+str(i+1)\n",
    "    convert_dict[dict_key] = np.int32\n",
    "\n",
    "for i in range(num_of_keys):\n",
    "    dict_key = \"key2\"+str(i+1)\n",
    "    convert_dict[dict_key] = np.int32\n",
    "\n",
    "mix_df = mix_df.astype(convert_dict)\n",
    "mix_df[\"tempo1\"] = preproc.scale(mix_df[\"tempo1\"].values)\n",
    "mix_df[\"tempo2\"] = preproc.scale(mix_df[\"tempo2\"].values)\n",
    "mix_df.head()\n",
    "# read_df.columns"
   ]
  },
  {
   "cell_type": "code",
   "execution_count": 54,
   "metadata": {},
   "outputs": [],
   "source": [
    "df1 = mix_df[mix_df.columns[:14]]\n",
    "df2 = mix_df[mix_df.columns[14:-1]]\n",
    "ydf = mix_df[mix_df.columns[-1]]"
   ]
  },
  {
   "cell_type": "code",
   "execution_count": 55,
   "metadata": {},
   "outputs": [
    {
     "data": {
      "text/plain": [
       "0    0\n",
       "1    0\n",
       "2    0\n",
       "3    0\n",
       "4    0\n",
       "Name: y, dtype: int16"
      ]
     },
     "execution_count": 55,
     "metadata": {},
     "output_type": "execute_result"
    }
   ],
   "source": [
    "ydf.head()"
   ]
  },
  {
   "cell_type": "code",
   "execution_count": 56,
   "metadata": {},
   "outputs": [],
   "source": [
    "# Preprocessing Data\n",
    "def pre_proc(df):\n",
    "#     df1 = mix_df[mix_df.columns[:14]]\n",
    "#     df2 = mix_df[mix_df.columns[14:-1]]\n",
    "#     ydf = mix_df[mix_df.columns[-1]]\n",
    "    \n",
    "    seq_data = []\n",
    "    data = []\n",
    "    \n",
    "    for row in df.values:\n",
    "        seq_data.append([ [ row[:14], row[14:-1] ], int(row[-1]) ])\n",
    "        \n",
    "    random.shuffle(seq_data)\n",
    "    \n",
    "    boost = []\n",
    "    no_boost = []\n",
    "    \n",
    "    for seq, target in seq_data:\n",
    "        if target == 0:\n",
    "            no_boost.append([seq,target])\n",
    "        if target == 1:\n",
    "            boost.append([seq,target])\n",
    "            \n",
    "    lower = min(len(no_boost), len(boost))\n",
    "    \n",
    "    boost = boost[:lower]\n",
    "    no_boost = no_boost[:lower]\n",
    "    \n",
    "    seq_data = boost + no_boost\n",
    "    random.shuffle(seq_data)\n",
    "    \n",
    "    X = []\n",
    "    y = []\n",
    "    \n",
    "    for seq,target in seq_data:\n",
    "        X.append(seq)\n",
    "        y.append(target)\n",
    "        \n",
    "    return np.array(X), np.array(y)\n"
   ]
  },
  {
   "cell_type": "code",
   "execution_count": 57,
   "metadata": {},
   "outputs": [],
   "source": [
    "X,y = pre_proc(mix_df)"
   ]
  },
  {
   "cell_type": "code",
   "execution_count": 58,
   "metadata": {},
   "outputs": [
    {
     "data": {
      "text/plain": [
       "array([[ 0.        , -0.05426845,  0.        ,  1.        ,  0.        ,\n",
       "         0.        ,  0.        ,  0.        ,  0.        ,  0.        ,\n",
       "         0.        ,  0.        ,  0.        ,  0.        ],\n",
       "       [ 1.        , -0.48523918,  0.        ,  1.        ,  0.        ,\n",
       "         0.        ,  0.        ,  0.        ,  0.        ,  0.        ,\n",
       "         0.        ,  0.        ,  0.        ,  0.        ]])"
      ]
     },
     "execution_count": 58,
     "metadata": {},
     "output_type": "execute_result"
    }
   ],
   "source": [
    "X[0]"
   ]
  },
  {
   "cell_type": "code",
   "execution_count": 59,
   "metadata": {},
   "outputs": [],
   "source": [
    "from tensorflow.keras.models import Sequential\n",
    "from tensorflow.keras.layers import Dense, Dropout, LSTM, Flatten, RNN"
   ]
  },
  {
   "cell_type": "code",
   "execution_count": 60,
   "metadata": {},
   "outputs": [],
   "source": [
    "model = Sequential()\n",
    "\n",
    "model.add(LSTM(68, input_shape=(X.shape[1:]), activation='relu', return_sequences=True))\n",
    "model.add(Dropout(0.1))\n",
    "\n",
    "model.add(LSTM(68, activation='relu'))\n",
    "model.add(Dropout(0.1))\n",
    "\n",
    "model.add(Dense(32, activation='relu'))\n",
    "model.add(Dropout(0.1))\n",
    "\n",
    "model.add(Dense(2, activation='softmax'))"
   ]
  },
  {
   "cell_type": "code",
   "execution_count": 61,
   "metadata": {},
   "outputs": [],
   "source": [
    "opt = tf.keras.optimizers.Adam(lr=0.001, decay=1e-6)\n",
    "\n",
    "model.compile(\n",
    "    loss='sparse_categorical_crossentropy',\n",
    "    optimizer=opt,\n",
    "    metrics=['accuracy'], \n",
    ")"
   ]
  },
  {
   "cell_type": "code",
   "execution_count": 62,
   "metadata": {},
   "outputs": [
    {
     "name": "stdout",
     "output_type": "stream",
     "text": [
      "Train on 4284 samples, validate on 476 samples\n",
      "Epoch 1/10\n",
      "4284/4284 [==============================] - 2s 561us/sample - loss: 0.6321 - accuracy: 0.6541 - val_loss: 0.5215 - val_accuracy: 0.7710\n",
      "Epoch 2/10\n",
      "4284/4284 [==============================] - 1s 136us/sample - loss: 0.3827 - accuracy: 0.8331 - val_loss: 0.2611 - val_accuracy: 0.9034\n",
      "Epoch 3/10\n",
      "4284/4284 [==============================] - 1s 136us/sample - loss: 0.2177 - accuracy: 0.9197 - val_loss: 0.1593 - val_accuracy: 0.9412\n",
      "Epoch 4/10\n",
      "4284/4284 [==============================] - 1s 134us/sample - loss: 0.1374 - accuracy: 0.9559 - val_loss: 0.0950 - val_accuracy: 0.9643\n",
      "Epoch 5/10\n",
      "4284/4284 [==============================] - 1s 136us/sample - loss: 0.0969 - accuracy: 0.9673 - val_loss: 0.0931 - val_accuracy: 0.9643\n",
      "Epoch 6/10\n",
      "4284/4284 [==============================] - 1s 135us/sample - loss: 0.0733 - accuracy: 0.9748 - val_loss: 0.0824 - val_accuracy: 0.9664\n",
      "Epoch 7/10\n",
      "4284/4284 [==============================] - 1s 138us/sample - loss: 0.0644 - accuracy: 0.9769 - val_loss: 0.0459 - val_accuracy: 0.9874\n",
      "Epoch 8/10\n",
      "4284/4284 [==============================] - 1s 139us/sample - loss: 0.0535 - accuracy: 0.9851 - val_loss: 0.0502 - val_accuracy: 0.9811\n",
      "Epoch 9/10\n",
      "4284/4284 [==============================] - 1s 141us/sample - loss: 0.0552 - accuracy: 0.9841 - val_loss: 0.0452 - val_accuracy: 0.9874\n",
      "Epoch 10/10\n",
      "4284/4284 [==============================] - 1s 138us/sample - loss: 0.0404 - accuracy: 0.9886 - val_loss: 0.0456 - val_accuracy: 0.9853\n"
     ]
    },
    {
     "data": {
      "text/plain": [
       "<tensorflow.python.keras.callbacks.History at 0x1c908612b48>"
      ]
     },
     "execution_count": 62,
     "metadata": {},
     "output_type": "execute_result"
    }
   ],
   "source": [
    "model.fit(X,y, epochs=10,validation_split=0.1)"
   ]
  },
  {
   "cell_type": "code",
   "execution_count": 63,
   "metadata": {},
   "outputs": [
    {
     "name": "stdout",
     "output_type": "stream",
     "text": [
      "INFO:tensorflow:Assets written to: models\\RNN_boost1\\assets\n"
     ]
    }
   ],
   "source": [
    "# Save Model for Boost\n",
    "\n",
    "MODEL_DIR = \"models\"\n",
    "file_name = \"RNN_boost1\"\n",
    "\n",
    "file_name = os.path.join(MODEL_DIR, file_name)\n",
    "model.save(file_name)"
   ]
  },
  {
   "cell_type": "code",
   "execution_count": 35,
   "metadata": {},
   "outputs": [
    {
     "name": "stdout",
     "output_type": "stream",
     "text": [
      "INFO:tensorflow:Assets written to: models\\RNN_drop1\\assets\n"
     ]
    }
   ],
   "source": [
    "# Save Model for Drop\n",
    "\n",
    "MODEL_DIR = \"models\"\n",
    "file_name = \"RNN_drop1\"\n",
    "\n",
    "file_name = os.path.join(MODEL_DIR, file_name)\n",
    "model.save(file_name)"
   ]
  }
 ],
 "metadata": {
  "kernelspec": {
   "display_name": "Python 3",
   "language": "python",
   "name": "python3"
  },
  "language_info": {
   "codemirror_mode": {
    "name": "ipython",
    "version": 3
   },
   "file_extension": ".py",
   "mimetype": "text/x-python",
   "name": "python",
   "nbconvert_exporter": "python",
   "pygments_lexer": "ipython3",
   "version": "3.7.7"
  }
 },
 "nbformat": 4,
 "nbformat_minor": 4
}
