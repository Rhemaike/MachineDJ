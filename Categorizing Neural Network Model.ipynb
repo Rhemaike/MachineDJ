{
 "cells": [
  {
   "cell_type": "markdown",
   "metadata": {},
   "source": [
    "# SIMPLE NEURAL NETWORK TO CARTIGORIZE MUSIC\n",
    "#### author: Rhema Ike"
   ]
  },
  {
   "cell_type": "code",
   "execution_count": 2,
   "metadata": {},
   "outputs": [],
   "source": [
    "import pandas as pd\n",
    "import tensorflow as tf"
   ]
  },
  {
   "cell_type": "code",
   "execution_count": 3,
   "metadata": {},
   "outputs": [],
   "source": [
    "import os\n",
    "import random"
   ]
  },
  {
   "cell_type": "code",
   "execution_count": 64,
   "metadata": {},
   "outputs": [],
   "source": [
    "# Load Data\n",
    "\n",
    "DATA_DIR = \"DataSets\"\n",
    "file_name = \"SongDataSetLess_4000.xlsx\"\n",
    "\n",
    "file_name = os.path.join(DATA_DIR, file_name)\n",
    "\n",
    "df = pd.read_excel(file_name)\n",
    "df.drop([\"name\",\"artist\"], axis=1,inplace=True)\n",
    "\n",
    "\n",
    "PLAYLIST_LEN = 1000\n",
    "target = ([1]* PLAYLIST_LEN) + ([2]* PLAYLIST_LEN) + ([3]* PLAYLIST_LEN) + ([4]* PLAYLIST_LEN)\n",
    "target_df = pd.DataFrame(target, columns=[\"target\"])\n",
    "\n",
    "df = pd.concat([df,target_df], axis=1)\n"
   ]
  },
  {
   "cell_type": "code",
   "execution_count": 60,
   "metadata": {},
   "outputs": [
    {
     "data": {
      "text/plain": [
       "name                   Believer\n",
       "artist              Crazy Fluke\n",
       "key                          11\n",
       "liveness                   0.22\n",
       "instrumentalness          0.874\n",
       "loudness                 -7.407\n",
       "mode                          0\n",
       "speechiness              0.0813\n",
       "tempo                   122.988\n",
       "valence                   0.684\n",
       "danceability              0.723\n",
       "energy                    0.869\n",
       "acousticness           0.000404\n",
       "target                        3\n",
       "Name: 2400, dtype: object"
      ]
     },
     "execution_count": 60,
     "metadata": {},
     "output_type": "execute_result"
    }
   ],
   "source": [
    "df.iloc[2400]"
   ]
  },
  {
   "cell_type": "code",
   "execution_count": 61,
   "metadata": {},
   "outputs": [],
   "source": [
    "import sklearn as sk\n",
    "import numpy as np"
   ]
  },
  {
   "cell_type": "code",
   "execution_count": 62,
   "metadata": {},
   "outputs": [],
   "source": [
    "from sklearn import preprocessing as preproc"
   ]
  },
  {
   "cell_type": "code",
   "execution_count": 63,
   "metadata": {},
   "outputs": [],
   "source": [
    "def preproc_df(df):\n",
    "    for col in df.columns:\n",
    "        if col in [\"key\", \"loudness\", \"tempo\"]:\n",
    "            df[col] = df[col] = preproc.scale(df[col].values)\n",
    "\n",
    "    df.dropna(inplace=True)\n",
    "    data = []\n",
    "    for row in df.values:\n",
    "        data.append([np.array(row[:-1]),row[-1]])\n",
    "        \n",
    "    random.shuffle(data)\n",
    "        \n",
    "    X_data = []\n",
    "    y_data = []\n",
    "    \n",
    "    for X,y in data:\n",
    "        X_data.append(X)\n",
    "        y_data.append(y-1)\n",
    "    \n",
    "        \n",
    "    return np.array(X_data), np.array(y_data)\n",
    "    "
   ]
  },
  {
   "cell_type": "code",
   "execution_count": 65,
   "metadata": {},
   "outputs": [],
   "source": [
    "X,y = preproc_df(df)"
   ]
  },
  {
   "cell_type": "code",
   "execution_count": 66,
   "metadata": {},
   "outputs": [],
   "source": [
    "# Making Model\n",
    "model = tf.keras.models.Sequential()\n",
    "model.add(tf.keras.layers.Dense(60, activation=tf.nn.relu))\n",
    "model.add(tf.keras.layers.Dense(60, activation=tf.nn.relu))\n",
    "model.add(tf.keras.layers.Dense(4, activation=tf.nn.softmax))\n",
    "\n",
    "model.compile(optimizer=\"adam\", loss=\"sparse_categorical_crossentropy\", metrics=[\"accuracy\"])"
   ]
  },
  {
   "cell_type": "code",
   "execution_count": 67,
   "metadata": {},
   "outputs": [
    {
     "name": "stdout",
     "output_type": "stream",
     "text": [
      "Train on 3200 samples, validate on 800 samples\n",
      "Epoch 1/10\n",
      "3200/3200 [==============================] - 1s 255us/sample - loss: 0.8617 - accuracy: 0.6250 - val_loss: 0.5775 - val_accuracy: 0.7700\n",
      "Epoch 2/10\n",
      "3200/3200 [==============================] - 0s 37us/sample - loss: 0.5208 - accuracy: 0.7728 - val_loss: 0.5041 - val_accuracy: 0.7688\n",
      "Epoch 3/10\n",
      "3200/3200 [==============================] - 0s 37us/sample - loss: 0.4582 - accuracy: 0.8075 - val_loss: 0.4534 - val_accuracy: 0.8062\n",
      "Epoch 4/10\n",
      "3200/3200 [==============================] - 0s 41us/sample - loss: 0.4194 - accuracy: 0.8391 - val_loss: 0.4441 - val_accuracy: 0.8238\n",
      "Epoch 5/10\n",
      "3200/3200 [==============================] - 0s 40us/sample - loss: 0.3990 - accuracy: 0.8453 - val_loss: 0.4096 - val_accuracy: 0.8438\n",
      "Epoch 6/10\n",
      "3200/3200 [==============================] - 0s 42us/sample - loss: 0.3814 - accuracy: 0.8509 - val_loss: 0.4057 - val_accuracy: 0.8475\n",
      "Epoch 7/10\n",
      "3200/3200 [==============================] - 0s 39us/sample - loss: 0.3709 - accuracy: 0.8584 - val_loss: 0.4084 - val_accuracy: 0.8512\n",
      "Epoch 8/10\n",
      "3200/3200 [==============================] - 0s 40us/sample - loss: 0.3687 - accuracy: 0.8528 - val_loss: 0.3978 - val_accuracy: 0.8512\n",
      "Epoch 9/10\n",
      "3200/3200 [==============================] - 0s 41us/sample - loss: 0.3574 - accuracy: 0.8606 - val_loss: 0.4214 - val_accuracy: 0.8475\n",
      "Epoch 10/10\n",
      "3200/3200 [==============================] - 0s 41us/sample - loss: 0.3552 - accuracy: 0.8609 - val_loss: 0.3995 - val_accuracy: 0.8450\n"
     ]
    },
    {
     "data": {
      "text/plain": [
       "<tensorflow.python.keras.callbacks.History at 0x1c3fe989188>"
      ]
     },
     "execution_count": 67,
     "metadata": {},
     "output_type": "execute_result"
    }
   ],
   "source": [
    "model.fit(X,y,epochs=10,validation_split=0.2)"
   ]
  },
  {
   "cell_type": "code",
   "execution_count": 68,
   "metadata": {},
   "outputs": [
    {
     "name": "stdout",
     "output_type": "stream",
     "text": [
      "INFO:tensorflow:Assets written to: models\\simp_neural_net_2l_60n\\assets\n"
     ]
    }
   ],
   "source": [
    "# Save Model\n",
    "\n",
    "MODEL_DIR = \"models\"\n",
    "file_name = \"simp_neural_net_2l_60n\"\n",
    "\n",
    "file_name = os.path.join(MODEL_DIR, file_name)\n",
    "model.save(file_name)"
   ]
  },
  {
   "cell_type": "code",
   "execution_count": 69,
   "metadata": {},
   "outputs": [
    {
     "data": {
      "text/plain": [
       "array([[-8.93641985e-01,  1.01000000e-01,  9.58000000e-01, ...,\n",
       "         3.16000000e-01,  7.66000000e-02,  9.95000000e-01],\n",
       "       [-8.93641985e-01,  7.84000000e-02,  9.33000000e-01, ...,\n",
       "         6.13000000e-01,  1.00000000e-01,  9.45000000e-01],\n",
       "       [-6.16500728e-01,  1.57000000e-01,  9.38000000e-01, ...,\n",
       "         5.35000000e-01,  3.12000000e-01,  7.97000000e-01],\n",
       "       ...,\n",
       "       [ 1.60062933e+00,  1.04000000e-01,  9.22000000e-05, ...,\n",
       "         7.65000000e-01,  7.62000000e-01,  4.36000000e-01],\n",
       "       [ 4.92064303e-01,  8.53000000e-02,  9.52000000e-01, ...,\n",
       "         5.46000000e-01,  6.20000000e-02,  9.89000000e-01],\n",
       "       [ 2.14923045e-01,  1.16000000e-01,  5.51000000e-01, ...,\n",
       "         8.04000000e-01,  1.54000000e-01,  8.14000000e-01]])"
      ]
     },
     "execution_count": 69,
     "metadata": {},
     "output_type": "execute_result"
    }
   ],
   "source": [
    "Song_categorizer_model = tf.keras.models.load_model(file_name)\n",
    "predictions = Song_categorizer_model.predict(X)\n",
    "X"
   ]
  }
 ],
 "metadata": {
  "kernelspec": {
   "display_name": "Python 3",
   "language": "python",
   "name": "python3"
  },
  "language_info": {
   "codemirror_mode": {
    "name": "ipython",
    "version": 3
   },
   "file_extension": ".py",
   "mimetype": "text/x-python",
   "name": "python",
   "nbconvert_exporter": "python",
   "pygments_lexer": "ipython3",
   "version": "3.7.7"
  }
 },
 "nbformat": 4,
 "nbformat_minor": 4
}
