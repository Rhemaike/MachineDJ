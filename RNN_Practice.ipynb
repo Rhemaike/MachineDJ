{
 "cells": [
  {
   "cell_type": "markdown",
   "metadata": {},
   "source": [
    "## RNN Song Energy Changer\n",
    "#### Author: Rhema Ike"
   ]
  },
  {
   "cell_type": "code",
   "execution_count": 23,
   "metadata": {},
   "outputs": [],
   "source": [
    "\n",
    "## Predicting Energy Boosts\n",
    "import pandas as pd\n",
    "import tensorflow as tf\n",
    "import numpy as np\n",
    "import sklearn as sk\n",
    "\n",
    "import functools\n",
    "import random"
   ]
  },
  {
   "cell_type": "code",
   "execution_count": 3,
   "metadata": {},
   "outputs": [
    {
     "data": {
      "text/html": [
       "<div>\n",
       "<style scoped>\n",
       "    .dataframe tbody tr th:only-of-type {\n",
       "        vertical-align: middle;\n",
       "    }\n",
       "\n",
       "    .dataframe tbody tr th {\n",
       "        vertical-align: top;\n",
       "    }\n",
       "\n",
       "    .dataframe thead th {\n",
       "        text-align: right;\n",
       "    }\n",
       "</style>\n",
       "<table border=\"1\" class=\"dataframe\">\n",
       "  <thead>\n",
       "    <tr style=\"text-align: right;\">\n",
       "      <th></th>\n",
       "      <th>mode1</th>\n",
       "      <th>tempo1</th>\n",
       "      <th>key11</th>\n",
       "      <th>key12</th>\n",
       "      <th>key13</th>\n",
       "      <th>key14</th>\n",
       "      <th>key15</th>\n",
       "      <th>key16</th>\n",
       "      <th>key17</th>\n",
       "      <th>key18</th>\n",
       "      <th>...</th>\n",
       "      <th>key24</th>\n",
       "      <th>key25</th>\n",
       "      <th>key26</th>\n",
       "      <th>key27</th>\n",
       "      <th>key28</th>\n",
       "      <th>key29</th>\n",
       "      <th>key210</th>\n",
       "      <th>key211</th>\n",
       "      <th>key212</th>\n",
       "      <th>y</th>\n",
       "    </tr>\n",
       "  </thead>\n",
       "  <tbody>\n",
       "    <tr>\n",
       "      <th>0</th>\n",
       "      <td>1</td>\n",
       "      <td>0.34188</td>\n",
       "      <td>0</td>\n",
       "      <td>0</td>\n",
       "      <td>1</td>\n",
       "      <td>0</td>\n",
       "      <td>0</td>\n",
       "      <td>0</td>\n",
       "      <td>0</td>\n",
       "      <td>0</td>\n",
       "      <td>...</td>\n",
       "      <td>0</td>\n",
       "      <td>0</td>\n",
       "      <td>0</td>\n",
       "      <td>0</td>\n",
       "      <td>0</td>\n",
       "      <td>0</td>\n",
       "      <td>0</td>\n",
       "      <td>0</td>\n",
       "      <td>0</td>\n",
       "      <td>0</td>\n",
       "    </tr>\n",
       "    <tr>\n",
       "      <th>1</th>\n",
       "      <td>1</td>\n",
       "      <td>0.34188</td>\n",
       "      <td>0</td>\n",
       "      <td>0</td>\n",
       "      <td>1</td>\n",
       "      <td>0</td>\n",
       "      <td>0</td>\n",
       "      <td>0</td>\n",
       "      <td>0</td>\n",
       "      <td>0</td>\n",
       "      <td>...</td>\n",
       "      <td>0</td>\n",
       "      <td>0</td>\n",
       "      <td>0</td>\n",
       "      <td>0</td>\n",
       "      <td>0</td>\n",
       "      <td>0</td>\n",
       "      <td>0</td>\n",
       "      <td>0</td>\n",
       "      <td>0</td>\n",
       "      <td>0</td>\n",
       "    </tr>\n",
       "    <tr>\n",
       "      <th>2</th>\n",
       "      <td>1</td>\n",
       "      <td>0.34188</td>\n",
       "      <td>0</td>\n",
       "      <td>0</td>\n",
       "      <td>1</td>\n",
       "      <td>0</td>\n",
       "      <td>0</td>\n",
       "      <td>0</td>\n",
       "      <td>0</td>\n",
       "      <td>0</td>\n",
       "      <td>...</td>\n",
       "      <td>0</td>\n",
       "      <td>0</td>\n",
       "      <td>0</td>\n",
       "      <td>0</td>\n",
       "      <td>0</td>\n",
       "      <td>0</td>\n",
       "      <td>0</td>\n",
       "      <td>0</td>\n",
       "      <td>0</td>\n",
       "      <td>0</td>\n",
       "    </tr>\n",
       "    <tr>\n",
       "      <th>3</th>\n",
       "      <td>1</td>\n",
       "      <td>0.34188</td>\n",
       "      <td>0</td>\n",
       "      <td>0</td>\n",
       "      <td>1</td>\n",
       "      <td>0</td>\n",
       "      <td>0</td>\n",
       "      <td>0</td>\n",
       "      <td>0</td>\n",
       "      <td>0</td>\n",
       "      <td>...</td>\n",
       "      <td>0</td>\n",
       "      <td>0</td>\n",
       "      <td>0</td>\n",
       "      <td>0</td>\n",
       "      <td>0</td>\n",
       "      <td>0</td>\n",
       "      <td>1</td>\n",
       "      <td>0</td>\n",
       "      <td>0</td>\n",
       "      <td>0</td>\n",
       "    </tr>\n",
       "    <tr>\n",
       "      <th>4</th>\n",
       "      <td>1</td>\n",
       "      <td>0.34188</td>\n",
       "      <td>0</td>\n",
       "      <td>0</td>\n",
       "      <td>1</td>\n",
       "      <td>0</td>\n",
       "      <td>0</td>\n",
       "      <td>0</td>\n",
       "      <td>0</td>\n",
       "      <td>0</td>\n",
       "      <td>...</td>\n",
       "      <td>0</td>\n",
       "      <td>0</td>\n",
       "      <td>0</td>\n",
       "      <td>0</td>\n",
       "      <td>0</td>\n",
       "      <td>0</td>\n",
       "      <td>0</td>\n",
       "      <td>0</td>\n",
       "      <td>1</td>\n",
       "      <td>0</td>\n",
       "    </tr>\n",
       "  </tbody>\n",
       "</table>\n",
       "<p>5 rows × 29 columns</p>\n",
       "</div>"
      ],
      "text/plain": [
       "   mode1   tempo1  key11  key12  key13  key14  key15  key16  key17  key18  \\\n",
       "0      1  0.34188      0      0      1      0      0      0      0      0   \n",
       "1      1  0.34188      0      0      1      0      0      0      0      0   \n",
       "2      1  0.34188      0      0      1      0      0      0      0      0   \n",
       "3      1  0.34188      0      0      1      0      0      0      0      0   \n",
       "4      1  0.34188      0      0      1      0      0      0      0      0   \n",
       "\n",
       "   ...  key24  key25  key26  key27  key28  key29  key210  key211  key212  y  \n",
       "0  ...      0      0      0      0      0      0       0       0       0  0  \n",
       "1  ...      0      0      0      0      0      0       0       0       0  0  \n",
       "2  ...      0      0      0      0      0      0       0       0       0  0  \n",
       "3  ...      0      0      0      0      0      0       1       0       0  0  \n",
       "4  ...      0      0      0      0      0      0       0       0       1  0  \n",
       "\n",
       "[5 rows x 29 columns]"
      ]
     },
     "execution_count": 3,
     "metadata": {},
     "output_type": "execute_result"
    }
   ],
   "source": [
    "#Load Data\n",
    "# Loading Data\n",
    "\n",
    "file_name = 'C:\\\\Users\\\\roike\\\\Documents\\\\research\\\\MachineDJ\\\\DataSets\\\\energy_boost_xy.xlsx'\n",
    "mix_df = pd.read_excel(file_name)\n",
    "\n",
    "num_of_keys = 12\n",
    "convert_dict = {\n",
    "                \"tempo1\": np.float32,\n",
    "                \"tempo2\": np.float32,\n",
    "                \"y\": np.int16\n",
    "               }\n",
    "\n",
    "for i in range(num_of_keys):\n",
    "    dict_key = \"key1\"+str(i+1)\n",
    "    convert_dict[dict_key] = np.int32\n",
    "\n",
    "for i in range(num_of_keys):\n",
    "    dict_key = \"key2\"+str(i+1)\n",
    "    convert_dict[dict_key] = np.int32\n",
    "\n",
    "mix_df = mix_df.astype(convert_dict)\n",
    "mix_df.head()"
   ]
  },
  {
   "cell_type": "code",
   "execution_count": 11,
   "metadata": {},
   "outputs": [],
   "source": [
    "df1 = mix_df[mix_df.columns[:14]]\n",
    "df2 = mix_df[mix_df.columns[14:-1]]\n",
    "ydf = mix_df[mix_df.columns[-1]]"
   ]
  },
  {
   "cell_type": "code",
   "execution_count": 14,
   "metadata": {},
   "outputs": [
    {
     "data": {
      "text/plain": [
       "0    0\n",
       "1    0\n",
       "2    0\n",
       "3    0\n",
       "4    0\n",
       "Name: y, dtype: int16"
      ]
     },
     "execution_count": 14,
     "metadata": {},
     "output_type": "execute_result"
    }
   ],
   "source": [
    "ydf.head()"
   ]
  },
  {
   "cell_type": "code",
   "execution_count": 25,
   "metadata": {},
   "outputs": [],
   "source": [
    "# Preprocessing Data\n",
    "def pre_proc(df):\n",
    "#     df1 = mix_df[mix_df.columns[:14]]\n",
    "#     df2 = mix_df[mix_df.columns[14:-1]]\n",
    "#     ydf = mix_df[mix_df.columns[-1]]\n",
    "    \n",
    "    seq_data = []\n",
    "    data = []\n",
    "    \n",
    "    for row in df.values:\n",
    "        seq_data.append([ [ row[:14], row[14:-1] ], int(row[-1]) ])\n",
    "        \n",
    "    random.shuffle(seq_data)\n",
    "    \n",
    "    boost = []\n",
    "    no_boost = []\n",
    "    \n",
    "    for seq, target in seq_data:\n",
    "        if target == 0:\n",
    "            no_boost.append([seq,target])\n",
    "        if target == 1:\n",
    "            boost.append([seq,target])\n",
    "            \n",
    "    lower = min(len(no_boost), len(boost))\n",
    "    \n",
    "    boost = boost[:lower]\n",
    "    no_boost = no_boost[:lower]\n",
    "    \n",
    "    seq_data = boost + no_boost\n",
    "    random.shuffle(seq_data)\n",
    "    \n",
    "    X = []\n",
    "    y = []\n",
    "    \n",
    "    for seq,target in seq_data:\n",
    "        X.append(seq)\n",
    "        y.append(target)\n",
    "        \n",
    "    return np.array(X), np.array(y)\n"
   ]
  },
  {
   "cell_type": "code",
   "execution_count": 26,
   "metadata": {},
   "outputs": [],
   "source": [
    "X,y = pre_proc(mix_df)"
   ]
  },
  {
   "cell_type": "code",
   "execution_count": 35,
   "metadata": {},
   "outputs": [
    {
     "data": {
      "text/plain": [
       "(312, 2, 14)"
      ]
     },
     "execution_count": 35,
     "metadata": {},
     "output_type": "execute_result"
    }
   ],
   "source": [
    "X.shape"
   ]
  },
  {
   "cell_type": "code",
   "execution_count": 34,
   "metadata": {},
   "outputs": [],
   "source": [
    "from tensorflow.keras.models import Sequential\n",
    "from tensorflow.keras.layers import Dense, Dropout, LSTM, Flatten"
   ]
  },
  {
   "cell_type": "code",
   "execution_count": 82,
   "metadata": {},
   "outputs": [],
   "source": [
    "model = Sequential()\n",
    "\n",
    "model.add(LSTM(68, input_shape=(X.shape[1:]), activation='relu', return_sequences=True))\n",
    "model.add(Dropout(0.1))\n",
    "\n",
    "model.add(LSTM(68, activation='relu'))\n",
    "model.add(Dropout(0.1))\n",
    "\n",
    "model.add(Dense(32, activation='relu'))\n",
    "model.add(Dropout(0.1))\n",
    "\n",
    "model.add(Dense(2, activation='softmax'))"
   ]
  },
  {
   "cell_type": "code",
   "execution_count": 83,
   "metadata": {},
   "outputs": [],
   "source": [
    "opt = tf.keras.optimizers.Adam(lr=0.001, decay=1e-6)\n",
    "\n",
    "model.compile(\n",
    "    loss='sparse_categorical_crossentropy',\n",
    "    optimizer=opt,\n",
    "    metrics=['accuracy'], \n",
    ")"
   ]
  },
  {
   "cell_type": "code",
   "execution_count": 85,
   "metadata": {},
   "outputs": [
    {
     "name": "stdout",
     "output_type": "stream",
     "text": [
      "Train on 280 samples, validate on 32 samples\n",
      "Epoch 1/10\n",
      "280/280 [==============================] - 0s 132us/sample - loss: 0.6062 - accuracy: 0.6857 - val_loss: 0.7271 - val_accuracy: 0.5938\n",
      "Epoch 2/10\n",
      "280/280 [==============================] - 0s 114us/sample - loss: 0.5920 - accuracy: 0.6679 - val_loss: 0.7261 - val_accuracy: 0.5625\n",
      "Epoch 3/10\n",
      "280/280 [==============================] - 0s 114us/sample - loss: 0.5670 - accuracy: 0.7286 - val_loss: 0.7237 - val_accuracy: 0.5625\n",
      "Epoch 4/10\n",
      "280/280 [==============================] - 0s 110us/sample - loss: 0.5416 - accuracy: 0.7500 - val_loss: 0.6992 - val_accuracy: 0.6562\n",
      "Epoch 5/10\n",
      "280/280 [==============================] - 0s 110us/sample - loss: 0.5243 - accuracy: 0.7821 - val_loss: 0.7029 - val_accuracy: 0.6875\n",
      "Epoch 6/10\n",
      "280/280 [==============================] - 0s 114us/sample - loss: 0.4976 - accuracy: 0.8179 - val_loss: 0.6850 - val_accuracy: 0.6875\n",
      "Epoch 7/10\n",
      "280/280 [==============================] - 0s 125us/sample - loss: 0.4680 - accuracy: 0.8286 - val_loss: 0.6747 - val_accuracy: 0.6562\n",
      "Epoch 8/10\n",
      "280/280 [==============================] - 0s 110us/sample - loss: 0.4354 - accuracy: 0.8179 - val_loss: 0.6456 - val_accuracy: 0.7188\n",
      "Epoch 9/10\n",
      "280/280 [==============================] - 0s 110us/sample - loss: 0.4345 - accuracy: 0.8321 - val_loss: 0.6571 - val_accuracy: 0.6562\n",
      "Epoch 10/10\n",
      "280/280 [==============================] - 0s 118us/sample - loss: 0.4184 - accuracy: 0.8321 - val_loss: 0.6253 - val_accuracy: 0.7188\n"
     ]
    },
    {
     "data": {
      "text/plain": [
       "<tensorflow.python.keras.callbacks.History at 0x29775265c48>"
      ]
     },
     "execution_count": 85,
     "metadata": {},
     "output_type": "execute_result"
    }
   ],
   "source": [
    "model.fit(X,y, epochs=10,validation_split=0.1)"
   ]
  }
 ],
 "metadata": {
  "kernelspec": {
   "display_name": "Python 3",
   "language": "python",
   "name": "python3"
  },
  "language_info": {
   "codemirror_mode": {
    "name": "ipython",
    "version": 3
   },
   "file_extension": ".py",
   "mimetype": "text/x-python",
   "name": "python",
   "nbconvert_exporter": "python",
   "pygments_lexer": "ipython3",
   "version": "3.7.7"
  }
 },
 "nbformat": 4,
 "nbformat_minor": 4
}
