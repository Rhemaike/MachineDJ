{
 "cells": [
  {
   "cell_type": "markdown",
   "metadata": {},
   "source": [
    "# SIMPLE NEURAL NETWORK TO CARTIGORIZE MUSIC\n",
    "#### author: Rhema Ike"
   ]
  },
  {
   "cell_type": "code",
   "execution_count": 66,
   "metadata": {},
   "outputs": [],
   "source": [
    "import pandas as pd\n",
    "import tensorflow as tf"
   ]
  },
  {
   "cell_type": "code",
   "execution_count": 10,
   "metadata": {},
   "outputs": [],
   "source": [
    "import os\n",
    "import random"
   ]
  },
  {
   "cell_type": "code",
   "execution_count": 110,
   "metadata": {},
   "outputs": [],
   "source": [
    "# Load Data\n",
    "\n",
    "DATA_DIR = \"DataSets\"\n",
    "file_name = \"Song_Feature_Data_set_less_2.xlsx\"\n",
    "\n",
    "file_name = os.path.join(DATA_DIR, file_name)\n",
    "\n",
    "df = pd.read_excel(file_name)\n",
    "df.drop([\"name\",\"artist\"], axis=1,inplace=True)\n",
    "\n",
    "\n",
    "PLAYLIST_LEN = 500\n",
    "target = ([1]* PLAYLIST_LEN) + ([2]* PLAYLIST_LEN) + ([4]* PLAYLIST_LEN) + ([4]* PLAYLIST_LEN)\n",
    "target_df = pd.DataFrame(target, columns=[\"target\"])\n",
    "\n",
    "df = pd.concat([df,target_df], axis=1)\n"
   ]
  },
  {
   "cell_type": "code",
   "execution_count": 47,
   "metadata": {},
   "outputs": [
    {
     "data": {
      "text/html": [
       "<div>\n",
       "<style scoped>\n",
       "    .dataframe tbody tr th:only-of-type {\n",
       "        vertical-align: middle;\n",
       "    }\n",
       "\n",
       "    .dataframe tbody tr th {\n",
       "        vertical-align: top;\n",
       "    }\n",
       "\n",
       "    .dataframe thead th {\n",
       "        text-align: right;\n",
       "    }\n",
       "</style>\n",
       "<table border=\"1\" class=\"dataframe\">\n",
       "  <thead>\n",
       "    <tr style=\"text-align: right;\">\n",
       "      <th></th>\n",
       "      <th>key</th>\n",
       "      <th>liveness</th>\n",
       "      <th>instrumentalness</th>\n",
       "      <th>loudness</th>\n",
       "      <th>mode</th>\n",
       "      <th>speechiness</th>\n",
       "      <th>tempo</th>\n",
       "      <th>valence</th>\n",
       "      <th>danceability</th>\n",
       "      <th>energy</th>\n",
       "      <th>acousticness</th>\n",
       "      <th>target</th>\n",
       "    </tr>\n",
       "  </thead>\n",
       "  <tbody>\n",
       "    <tr>\n",
       "      <th>1995</th>\n",
       "      <td>0</td>\n",
       "      <td>0.1120</td>\n",
       "      <td>0.903</td>\n",
       "      <td>-23.499</td>\n",
       "      <td>0</td>\n",
       "      <td>0.0340</td>\n",
       "      <td>43.513</td>\n",
       "      <td>0.0613</td>\n",
       "      <td>0.2740</td>\n",
       "      <td>0.04170</td>\n",
       "      <td>0.902</td>\n",
       "      <td>4</td>\n",
       "    </tr>\n",
       "    <tr>\n",
       "      <th>1996</th>\n",
       "      <td>5</td>\n",
       "      <td>0.1110</td>\n",
       "      <td>0.872</td>\n",
       "      <td>-33.197</td>\n",
       "      <td>1</td>\n",
       "      <td>0.0403</td>\n",
       "      <td>68.869</td>\n",
       "      <td>0.0580</td>\n",
       "      <td>0.2560</td>\n",
       "      <td>0.00486</td>\n",
       "      <td>0.993</td>\n",
       "      <td>4</td>\n",
       "    </tr>\n",
       "    <tr>\n",
       "      <th>1997</th>\n",
       "      <td>0</td>\n",
       "      <td>0.1110</td>\n",
       "      <td>0.902</td>\n",
       "      <td>-32.599</td>\n",
       "      <td>1</td>\n",
       "      <td>0.0382</td>\n",
       "      <td>69.264</td>\n",
       "      <td>0.0511</td>\n",
       "      <td>0.2030</td>\n",
       "      <td>0.00541</td>\n",
       "      <td>0.981</td>\n",
       "      <td>4</td>\n",
       "    </tr>\n",
       "    <tr>\n",
       "      <th>1998</th>\n",
       "      <td>2</td>\n",
       "      <td>0.0846</td>\n",
       "      <td>0.888</td>\n",
       "      <td>-23.560</td>\n",
       "      <td>0</td>\n",
       "      <td>0.0377</td>\n",
       "      <td>86.352</td>\n",
       "      <td>0.1040</td>\n",
       "      <td>0.1570</td>\n",
       "      <td>0.16300</td>\n",
       "      <td>0.867</td>\n",
       "      <td>4</td>\n",
       "    </tr>\n",
       "    <tr>\n",
       "      <th>1999</th>\n",
       "      <td>1</td>\n",
       "      <td>0.0875</td>\n",
       "      <td>0.884</td>\n",
       "      <td>-23.641</td>\n",
       "      <td>0</td>\n",
       "      <td>0.0419</td>\n",
       "      <td>77.326</td>\n",
       "      <td>0.0412</td>\n",
       "      <td>0.0902</td>\n",
       "      <td>0.04450</td>\n",
       "      <td>0.970</td>\n",
       "      <td>4</td>\n",
       "    </tr>\n",
       "  </tbody>\n",
       "</table>\n",
       "</div>"
      ],
      "text/plain": [
       "      key  liveness  instrumentalness  loudness  mode  speechiness   tempo  \\\n",
       "1995    0    0.1120             0.903   -23.499     0       0.0340  43.513   \n",
       "1996    5    0.1110             0.872   -33.197     1       0.0403  68.869   \n",
       "1997    0    0.1110             0.902   -32.599     1       0.0382  69.264   \n",
       "1998    2    0.0846             0.888   -23.560     0       0.0377  86.352   \n",
       "1999    1    0.0875             0.884   -23.641     0       0.0419  77.326   \n",
       "\n",
       "      valence  danceability   energy  acousticness  target  \n",
       "1995   0.0613        0.2740  0.04170         0.902       4  \n",
       "1996   0.0580        0.2560  0.00486         0.993       4  \n",
       "1997   0.0511        0.2030  0.00541         0.981       4  \n",
       "1998   0.1040        0.1570  0.16300         0.867       4  \n",
       "1999   0.0412        0.0902  0.04450         0.970       4  "
      ]
     },
     "execution_count": 47,
     "metadata": {},
     "output_type": "execute_result"
    }
   ],
   "source": [
    "df.tail()"
   ]
  },
  {
   "cell_type": "code",
   "execution_count": 50,
   "metadata": {},
   "outputs": [],
   "source": [
    "import sklearn as sk\n",
    "import numpy as np"
   ]
  },
  {
   "cell_type": "code",
   "execution_count": 35,
   "metadata": {},
   "outputs": [],
   "source": [
    "from sklearn import preprocessing as preproc"
   ]
  },
  {
   "cell_type": "code",
   "execution_count": 109,
   "metadata": {},
   "outputs": [],
   "source": [
    "def preproc_df(df):\n",
    "    for col in df.columns:\n",
    "        if col in [\"key\", \"loudness\", \"tempo\"]:\n",
    "            df[col] = df[col] = preproc.scale(df[col].values)\n",
    "\n",
    "    df.dropna(inplace=True)\n",
    "    data = []\n",
    "    for row in df.values:\n",
    "        data.append([np.array(row[:-1]),row[-1]])\n",
    "        \n",
    "    random.shuffle(data)\n",
    "        \n",
    "    X_data = []\n",
    "    y_data = []\n",
    "    \n",
    "    for X,y in data:\n",
    "        X_data.append(X)\n",
    "        y_data.append(y-1)\n",
    "    \n",
    "        \n",
    "    return np.array(X_data), np.array(y_data)\n",
    "    "
   ]
  },
  {
   "cell_type": "code",
   "execution_count": 111,
   "metadata": {},
   "outputs": [],
   "source": [
    "X,y = preproc_df(df)"
   ]
  },
  {
   "cell_type": "code",
   "execution_count": 130,
   "metadata": {},
   "outputs": [],
   "source": [
    "# Making Model\n",
    "model = tf.keras.models.Sequential()\n",
    "model.add(tf.keras.layers.Dense(60, activation=tf.nn.relu))\n",
    "model.add(tf.keras.layers.Dense(60, activation=tf.nn.relu))\n",
    "model.add(tf.keras.layers.Dense(60, activation=tf.nn.relu))\n",
    "model.add(tf.keras.layers.Dense(4, activation=tf.nn.softmax))\n",
    "\n",
    "model.compile(optimizer=\"adam\", loss=\"sparse_categorical_crossentropy\", metrics=[\"accuracy\"])"
   ]
  },
  {
   "cell_type": "code",
   "execution_count": 131,
   "metadata": {},
   "outputs": [
    {
     "name": "stdout",
     "output_type": "stream",
     "text": [
      "Train on 1600 samples, validate on 400 samples\n",
      "Epoch 1/10\n",
      "1600/1600 [==============================] - 1s 444us/sample - loss: 0.9766 - accuracy: 0.5612 - val_loss: 0.7304 - val_accuracy: 0.6850\n",
      "Epoch 2/10\n",
      "1600/1600 [==============================] - 0s 60us/sample - loss: 0.6017 - accuracy: 0.7506 - val_loss: 0.5139 - val_accuracy: 0.7825\n",
      "Epoch 3/10\n",
      "1600/1600 [==============================] - 0s 65us/sample - loss: 0.4790 - accuracy: 0.8106 - val_loss: 0.4693 - val_accuracy: 0.8150\n",
      "Epoch 4/10\n",
      "1600/1600 [==============================] - 0s 64us/sample - loss: 0.4188 - accuracy: 0.8306 - val_loss: 0.4465 - val_accuracy: 0.8275\n",
      "Epoch 5/10\n",
      "1600/1600 [==============================] - 0s 64us/sample - loss: 0.3903 - accuracy: 0.8481 - val_loss: 0.4641 - val_accuracy: 0.8050\n",
      "Epoch 6/10\n",
      "1600/1600 [==============================] - 0s 64us/sample - loss: 0.3736 - accuracy: 0.8525 - val_loss: 0.4136 - val_accuracy: 0.8650\n",
      "Epoch 7/10\n",
      "1600/1600 [==============================] - 0s 64us/sample - loss: 0.3510 - accuracy: 0.8600 - val_loss: 0.3887 - val_accuracy: 0.8650\n",
      "Epoch 8/10\n",
      "1600/1600 [==============================] - 0s 66us/sample - loss: 0.3352 - accuracy: 0.8731 - val_loss: 0.3890 - val_accuracy: 0.8650\n",
      "Epoch 9/10\n",
      "1600/1600 [==============================] - 0s 62us/sample - loss: 0.3161 - accuracy: 0.8825 - val_loss: 0.3736 - val_accuracy: 0.8800\n",
      "Epoch 10/10\n",
      "1600/1600 [==============================] - 0s 67us/sample - loss: 0.3260 - accuracy: 0.8725 - val_loss: 0.3641 - val_accuracy: 0.8850\n"
     ]
    },
    {
     "data": {
      "text/plain": [
       "<tensorflow.python.keras.callbacks.History at 0x29b48af36c8>"
      ]
     },
     "execution_count": 131,
     "metadata": {},
     "output_type": "execute_result"
    }
   ],
   "source": [
    "model.fit(X,y,epochs=10,validation_split=0.2)"
   ]
  },
  {
   "cell_type": "code",
   "execution_count": 129,
   "metadata": {},
   "outputs": [
    {
     "name": "stdout",
     "output_type": "stream",
     "text": [
      "WARNING:tensorflow:From C:\\Users\\roike\\.conda\\envs\\tf\\lib\\site-packages\\tensorflow_core\\python\\ops\\resource_variable_ops.py:1786: calling BaseResourceVariable.__init__ (from tensorflow.python.ops.resource_variable_ops) with constraint is deprecated and will be removed in a future version.\n",
      "Instructions for updating:\n",
      "If using Keras pass *_constraint arguments to layers.\n",
      "INFO:tensorflow:Assets written to: models\\simp_neural_net\\assets\n"
     ]
    }
   ],
   "source": [
    "# Save Model\n",
    "\n",
    "MODEL_DIR = \"models\"\n",
    "file_name = \"simp_neural_net\"\n",
    "\n",
    "file_name = os.path.join(MODEL_DIR, file_name)\n",
    "model.save(file_name)"
   ]
  }
 ],
 "metadata": {
  "kernelspec": {
   "display_name": "Python 3",
   "language": "python",
   "name": "python3"
  },
  "language_info": {
   "codemirror_mode": {
    "name": "ipython",
    "version": 3
   },
   "file_extension": ".py",
   "mimetype": "text/x-python",
   "name": "python",
   "nbconvert_exporter": "python",
   "pygments_lexer": "ipython3",
   "version": "3.7.7"
  }
 },
 "nbformat": 4,
 "nbformat_minor": 4
}
