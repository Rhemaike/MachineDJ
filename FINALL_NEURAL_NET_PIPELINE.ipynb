{
 "cells": [
  {
   "cell_type": "markdown",
   "metadata": {},
   "source": [
    "### FINAL PROJECT CODE\n",
    "\n",
    "Our final Project consists of a neural network for classifying songs, Another neural network for analysing user schedule to see if the next song on the playlist should degrease or increase energy. 1 of 2 RNNs are used to analyse song and pick a song with the appropriate song. One RNN is trained to boost song energy and the other to drop energy. The choice of RNN to use is made by the second neural nertwork in the pipeline"
   ]
  },
  {
   "cell_type": "code",
   "execution_count": 39,
   "metadata": {},
   "outputs": [],
   "source": [
    "# imports \n",
    "import pandas as pd\n",
    "import os\n",
    "import random\n",
    "from sklearn import preprocessing as preproc\n",
    "import numpy as np\n",
    "import tensorflow as tf"
   ]
  },
  {
   "cell_type": "markdown",
   "metadata": {},
   "source": [
    "#### Step 1: Load Users Playlist Data"
   ]
  },
  {
   "cell_type": "code",
   "execution_count": 18,
   "metadata": {
    "scrolled": true
   },
   "outputs": [
    {
     "name": "stdout",
     "output_type": "stream",
     "text": [
      "---------------------------   USERS RAW DATA   ---------------------------\n"
     ]
    },
    {
     "data": {
      "text/html": [
       "<div>\n",
       "<style scoped>\n",
       "    .dataframe tbody tr th:only-of-type {\n",
       "        vertical-align: middle;\n",
       "    }\n",
       "\n",
       "    .dataframe tbody tr th {\n",
       "        vertical-align: top;\n",
       "    }\n",
       "\n",
       "    .dataframe thead th {\n",
       "        text-align: right;\n",
       "    }\n",
       "</style>\n",
       "<table border=\"1\" class=\"dataframe\">\n",
       "  <thead>\n",
       "    <tr style=\"text-align: right;\">\n",
       "      <th></th>\n",
       "      <th>name</th>\n",
       "      <th>artist</th>\n",
       "      <th>key</th>\n",
       "      <th>liveness</th>\n",
       "      <th>instrumentalness</th>\n",
       "      <th>loudness</th>\n",
       "      <th>mode</th>\n",
       "      <th>speechiness</th>\n",
       "      <th>tempo</th>\n",
       "      <th>valence</th>\n",
       "      <th>danceability</th>\n",
       "      <th>energy</th>\n",
       "      <th>acousticness</th>\n",
       "    </tr>\n",
       "  </thead>\n",
       "  <tbody>\n",
       "    <tr>\n",
       "      <th>0</th>\n",
       "      <td>Losing It</td>\n",
       "      <td>FISHER</td>\n",
       "      <td>2</td>\n",
       "      <td>0.0974</td>\n",
       "      <td>0.700000</td>\n",
       "      <td>-5.844</td>\n",
       "      <td>1</td>\n",
       "      <td>0.0576</td>\n",
       "      <td>125.000</td>\n",
       "      <td>0.6410</td>\n",
       "      <td>0.760</td>\n",
       "      <td>0.964</td>\n",
       "      <td>0.00182</td>\n",
       "    </tr>\n",
       "    <tr>\n",
       "      <th>1</th>\n",
       "      <td>Midnight Hour with Boys Noize &amp; Ty Dolla $ign</td>\n",
       "      <td>Skrillex</td>\n",
       "      <td>0</td>\n",
       "      <td>0.1990</td>\n",
       "      <td>0.000392</td>\n",
       "      <td>-4.202</td>\n",
       "      <td>1</td>\n",
       "      <td>0.0685</td>\n",
       "      <td>125.978</td>\n",
       "      <td>0.3290</td>\n",
       "      <td>0.795</td>\n",
       "      <td>0.899</td>\n",
       "      <td>0.00235</td>\n",
       "    </tr>\n",
       "    <tr>\n",
       "      <th>2</th>\n",
       "      <td>Clouds</td>\n",
       "      <td>Zonderling</td>\n",
       "      <td>1</td>\n",
       "      <td>0.7780</td>\n",
       "      <td>0.840000</td>\n",
       "      <td>-5.362</td>\n",
       "      <td>1</td>\n",
       "      <td>0.0957</td>\n",
       "      <td>125.953</td>\n",
       "      <td>0.0813</td>\n",
       "      <td>0.681</td>\n",
       "      <td>0.926</td>\n",
       "      <td>0.04950</td>\n",
       "    </tr>\n",
       "    <tr>\n",
       "      <th>3</th>\n",
       "      <td>Hypnagogic (I Can't Wait) [edit]</td>\n",
       "      <td>Love Regenerator</td>\n",
       "      <td>9</td>\n",
       "      <td>0.1080</td>\n",
       "      <td>0.766000</td>\n",
       "      <td>-3.852</td>\n",
       "      <td>0</td>\n",
       "      <td>0.0458</td>\n",
       "      <td>139.982</td>\n",
       "      <td>0.2500</td>\n",
       "      <td>0.422</td>\n",
       "      <td>0.957</td>\n",
       "      <td>0.00288</td>\n",
       "    </tr>\n",
       "    <tr>\n",
       "      <th>4</th>\n",
       "      <td>Your Mind - Radio Edit</td>\n",
       "      <td>Adam Beyer</td>\n",
       "      <td>11</td>\n",
       "      <td>0.2150</td>\n",
       "      <td>0.165000</td>\n",
       "      <td>-7.946</td>\n",
       "      <td>0</td>\n",
       "      <td>0.0565</td>\n",
       "      <td>126.032</td>\n",
       "      <td>0.1110</td>\n",
       "      <td>0.660</td>\n",
       "      <td>0.857</td>\n",
       "      <td>0.00262</td>\n",
       "    </tr>\n",
       "  </tbody>\n",
       "</table>\n",
       "</div>"
      ],
      "text/plain": [
       "                                            name            artist  key  \\\n",
       "0                                      Losing It            FISHER    2   \n",
       "1  Midnight Hour with Boys Noize & Ty Dolla $ign          Skrillex    0   \n",
       "2                                         Clouds        Zonderling    1   \n",
       "3               Hypnagogic (I Can't Wait) [edit]  Love Regenerator    9   \n",
       "4                         Your Mind - Radio Edit        Adam Beyer   11   \n",
       "\n",
       "   liveness  instrumentalness  loudness  mode  speechiness    tempo  valence  \\\n",
       "0    0.0974          0.700000    -5.844     1       0.0576  125.000   0.6410   \n",
       "1    0.1990          0.000392    -4.202     1       0.0685  125.978   0.3290   \n",
       "2    0.7780          0.840000    -5.362     1       0.0957  125.953   0.0813   \n",
       "3    0.1080          0.766000    -3.852     0       0.0458  139.982   0.2500   \n",
       "4    0.2150          0.165000    -7.946     0       0.0565  126.032   0.1110   \n",
       "\n",
       "   danceability  energy  acousticness  \n",
       "0         0.760   0.964       0.00182  \n",
       "1         0.795   0.899       0.00235  \n",
       "2         0.681   0.926       0.04950  \n",
       "3         0.422   0.957       0.00288  \n",
       "4         0.660   0.857       0.00262  "
      ]
     },
     "execution_count": 18,
     "metadata": {},
     "output_type": "execute_result"
    }
   ],
   "source": [
    "DATA_DIR = \"DataSets\"\n",
    "\n",
    "user_playlist_file = \"TestSongDataSetLess.xlsx\"\n",
    "user_playlist_file = os.path.join(DATA_DIR, user_playlist_file)\n",
    "user_df = pd.read_excel(user_playlist_file)\n",
    "print(\"---------------------------   USERS RAW DATA   ---------------------------\")\n",
    "user_df.head()"
   ]
  },
  {
   "cell_type": "code",
   "execution_count": 75,
   "metadata": {},
   "outputs": [],
   "source": [
    "## Some of The Data isn't normalized so gonna make a pre proc function for the playlist data\n",
    "# so it is ready to be run through through the categorization neural network\n",
    "\n",
    "def preproc_userdata(df):\n",
    "    for col in df.columns:\n",
    "        if col in [\"key\", \"loudness\", \"tempo\"]:\n",
    "            df[col] = df[col] = preproc.scale(df[col].values)\n",
    "\n",
    "    df.dropna(inplace=True)\n",
    "    data = []\n",
    "    for row in df.values:\n",
    "        data.append(np.array(row[2:], dtype=np.float64))\n",
    "        \n",
    "    X_data = []\n",
    "    \n",
    "    for X in data:\n",
    "        X_data.append(X)\n",
    "\n",
    "    \n",
    "        \n",
    "    return np.array(X_data)"
   ]
  },
  {
   "cell_type": "code",
   "execution_count": 103,
   "metadata": {},
   "outputs": [],
   "source": [
    "X = preproc_userdata(user_df)"
   ]
  },
  {
   "cell_type": "code",
   "execution_count": 77,
   "metadata": {},
   "outputs": [
    {
     "data": {
      "text/plain": [
       "array([[-8.93641985e-01,  9.74000000e-02,  7.00000000e-01, ...,\n",
       "         7.60000000e-01,  9.64000000e-01,  1.82000000e-03],\n",
       "       [-1.44792450e+00,  1.99000000e-01,  3.92000000e-04, ...,\n",
       "         7.95000000e-01,  8.99000000e-01,  2.35000000e-03],\n",
       "       [-1.17078324e+00,  7.78000000e-01,  8.40000000e-01, ...,\n",
       "         6.81000000e-01,  9.26000000e-01,  4.95000000e-02],\n",
       "       ...,\n",
       "       [-8.93641985e-01,  1.11000000e-01,  8.57000000e-01, ...,\n",
       "         2.70000000e-01,  7.51000000e-02,  9.92000000e-01],\n",
       "       [-1.17078324e+00,  1.09000000e-01,  9.28000000e-01, ...,\n",
       "         2.84000000e-01,  3.08000000e-02,  9.89000000e-01],\n",
       "       [-1.44792450e+00,  1.15000000e-01,  8.46000000e-01, ...,\n",
       "         2.60000000e-01,  1.66000000e-02,  9.80000000e-01]])"
      ]
     },
     "execution_count": 77,
     "metadata": {},
     "output_type": "execute_result"
    }
   ],
   "source": [
    "# X data is now an np array that can be fed into aout neural network model\n",
    "X"
   ]
  },
  {
   "cell_type": "markdown",
   "metadata": {},
   "source": [
    "#### Step 2: Use NN to categorize Data"
   ]
  },
  {
   "cell_type": "code",
   "execution_count": 106,
   "metadata": {},
   "outputs": [],
   "source": [
    "BeastMode = []\n",
    "Studying = []\n",
    "BeachSongs = []\n",
    "Relaxing = []\n",
    "\n",
    "MODEL_DIR = \"Models\"\n",
    "\n",
    "# Load Model\n",
    "file_name = os.path.join(MODEL_DIR,\"simp_neural_net_2l_60n\")\n",
    "Song_categorizer_model = tf.keras.models.load_model(file_name)\n",
    "\n",
    "# Make Predctions\n",
    "predictions = Song_categorizer_model.predict(X)\n",
    "\n",
    "predicted_category = [0] * len(predictions)\n",
    "# Arg Max The predictions\n",
    "for i,prediction in enumerate(predictions):\n",
    "    predicted_category[i] = np.argmax(prediction)\n",
    "    \n",
    "\n",
    "for i,prediction in enumerate(predicted_category):\n",
    "    song_dic = user_df.iloc[i].to_dict()\n",
    "    if prediction == 0:\n",
    "        BeastMode.append(song_dic)\n",
    "    elif prediction == 1:\n",
    "        Studying.append(song_dic)\n",
    "    elif prediction == 2:\n",
    "        BeachSongs.append(song_dic)\n",
    "    elif prediction ==3:\n",
    "        Relaxing.append(song_dic)\n"
   ]
  },
  {
   "cell_type": "code",
   "execution_count": 109,
   "metadata": {},
   "outputs": [
    {
     "name": "stdout",
     "output_type": "stream",
     "text": [
      "807 1088 936 1169\n"
     ]
    }
   ],
   "source": [
    "#Remove later\n",
    "print(len(BeastMode),\n",
    "len(Relaxing),\n",
    "len(Studying),\n",
    "len(BeachSongs))"
   ]
  },
  {
   "cell_type": "markdown",
   "metadata": {},
   "source": [
    "##### Imput Schedule of The USER IN BOTTOM CELL"
   ]
  },
  {
   "cell_type": "code",
   "execution_count": null,
   "metadata": {},
   "outputs": [],
   "source": [
    "# for Schedule is a list of tuples. The tuples contain activity and duration\n",
    "#### Key:\n",
    "# BeastMode = 1\n",
    "# Studying = 2\n",
    "# BeachSongs = 3\n",
    "# Relaxing = 4\n",
    "\n",
    "\n",
    "schedule1 = [(1,2),(2,1),(2,3)]  #BeastMode for 2 hrs, Studying for 1 hours, Relaxing for 3 hours"
   ]
  },
  {
   "cell_type": "code",
   "execution_count": null,
   "metadata": {},
   "outputs": [],
   "source": [
    "#"
   ]
  }
 ],
 "metadata": {
  "kernelspec": {
   "display_name": "Python 3",
   "language": "python",
   "name": "python3"
  },
  "language_info": {
   "codemirror_mode": {
    "name": "ipython",
    "version": 3
   },
   "file_extension": ".py",
   "mimetype": "text/x-python",
   "name": "python",
   "nbconvert_exporter": "python",
   "pygments_lexer": "ipython3",
   "version": "3.7.7"
  }
 },
 "nbformat": 4,
 "nbformat_minor": 4
}
